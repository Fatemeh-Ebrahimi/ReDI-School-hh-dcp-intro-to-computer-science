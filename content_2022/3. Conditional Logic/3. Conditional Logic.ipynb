{
 "cells": [
  {
   "cell_type": "markdown",
   "id": "7c7b2f7f-b6ba-443f-ba4b-45f938fbaaaf",
   "metadata": {
    "pycharm": {
     "name": "#%% md\n"
    }
   },
   "source": [
    "# 26 Oct - Conditional Logic (if-else statement)\n",
    "\n",
    "\n",
    "![python gif](https://media.giphy.com/media/KAq5w47R9rmTuvWOWa/giphy.gif)\n",
    "\n",
    "## Pre Requisites\n",
    "\n",
    "None for today!"
   ]
  },
  {
   "cell_type": "markdown",
   "source": [
    "## Class Curriculum\n",
    "\n",
    "| Section content                             | Expected time (mins) | Pre - Requirements |\n",
    "| ------------------------------------------- | -------------------- | ------------------ |\n",
    "| Check-in and questions from last class      | 5 minutes            | ❌                 |\n",
    "| Lesson Goals                                | 5 minutes            | ❌                 |\n",
    "| Python Overview                             | 15 minutes           | ❌                 |\n",
    "| Hands-on Python exercise (in pairs)         | 45-60 minutes        | ❌                 |\n",
    "| Break                                       | 10 minutes           | ❌                 |\n",
    "| Synthesis of Python Concepts from Exercise  | 15-30 minutes        | ❌                 |\n",
    "| (Possible) \"Hello World\" in Python Exercise | 20 minutes           | ❌                 |\n",
    "| Check-out                                   | 5 minutes            | ❌                 |\n",
    "\n",
    "## 1. Recap\n",
    "→ Data Types we have learned about so far are Strings, Numbers, Booleans, Lists and Dictionaries\n"
   ],
   "metadata": {
    "collapsed": false,
    "pycharm": {
     "name": "#%% md\n"
    }
   }
  },
  {
   "cell_type": "code",
   "execution_count": 4,
   "outputs": [
    {
     "data": {
      "text/plain": "{'name': 'John', 'age': 30}"
     },
     "execution_count": 4,
     "metadata": {},
     "output_type": "execute_result"
    }
   ],
   "source": [
    "# Strings\n",
    "\"Hello World\" # 'Hello World' (double or single quotation marks)\n",
    "# Numbers\n",
    "1\n",
    "1.5\n",
    "# Booleans\n",
    "True\n",
    "False\n",
    "# Lists\n",
    "[1, 2, 3]\n",
    "['Hello', 'World']\n",
    "# Dictionaries\n",
    "{'name': 'John', 'age': 30}"
   ],
   "metadata": {
    "collapsed": false,
    "pycharm": {
     "name": "#%%\n"
    }
   }
  },
  {
   "cell_type": "markdown",
   "source": [
    "→ we usually store data in variables through the use of the = operator (therefore called assignment operator)"
   ],
   "metadata": {
    "collapsed": false,
    "pycharm": {
     "name": "#%% md\n"
    }
   }
  },
  {
   "cell_type": "code",
   "execution_count": 5,
   "outputs": [
    {
     "name": "stdout",
     "output_type": "stream",
     "text": [
      "John\n",
      "<class 'str'>\n"
     ]
    }
   ],
   "source": [
    "# Assign a value to a variable\n",
    "name = 'John'\n",
    "# Print the value of the variable\n",
    "print(name)\n",
    "# Print the type of the variable\n",
    "print(type(name))"
   ],
   "metadata": {
    "collapsed": false,
    "pycharm": {
     "name": "#%%\n"
    }
   }
  },
  {
   "cell_type": "markdown",
   "source": [
    "## 2. Goal for today\n",
    "→ Get more comfortable with Python basics.\n",
    "\n",
    "→ If-else statements\n",
    "\n",
    "## 3. Exercises\n",
    "\n",
    "Go to this [link](https://github.com/hannah-eichelsdoerfer/python_practice) to get todays exercises - clone the repository.\n",
    "\n",
    "1. Open the folder called \"Exercises\" and start working on the challenges in the `strings.py` file.\n",
    "2. Continue working on the challenges in the `lists.py` file.\n",
    "3. Move on to working on the challenges in the `dictionaries.py` file.\n"
   ],
   "metadata": {
    "collapsed": false,
    "pycharm": {
     "name": "#%% md\n"
    }
   }
  },
  {
   "cell_type": "code",
   "execution_count": 6,
   "outputs": [
    {
     "name": "stdout",
     "output_type": "stream",
     "text": [
      "['apple', 'banana', 'cherry']\n",
      "<class 'list'>\n"
     ]
    },
    {
     "data": {
      "text/plain": "list"
     },
     "execution_count": 6,
     "metadata": {},
     "output_type": "execute_result"
    }
   ],
   "source": [
    "x = [\"apple\", \"banana\", \"cherry\"]\n",
    "print(x)\n",
    "#thislist = list((\"apple\", \"banana\", \"cherry\")) # note the double round-brackets\n",
    "#print(thislist)\n",
    "print(type(x))\n",
    "\n",
    "x[0] #first item of the list\n",
    "\n",
    "mylist=list(('apple','banana',\"cherry\"))\n",
    "mylist\n",
    "\n",
    "type(mylist)"
   ],
   "metadata": {
    "collapsed": false,
    "pycharm": {
     "name": "#%%\n"
    }
   }
  },
  {
   "cell_type": "code",
   "execution_count": 7,
   "outputs": [
    {
     "name": "stdout",
     "output_type": "stream",
     "text": [
      "[1, 5, 0, 4]\n",
      "[0, 1, 4, 5]\n",
      "[0, 1, 4, 5, 'a']\n",
      "[0, 1, 5, 'a']\n",
      "4\n",
      "The first element is 1\n",
      "0\n",
      "[0, 1, 2, 3, 4, 5, 6, 7, 8, 9]\n",
      "[5, 6, 7, 8, 9]\n"
     ]
    }
   ],
   "source": [
    "l1 = [1, 5, 0, 4]  # create a list\n",
    "print(l1)\n",
    "l1.sort()          # sort the list\n",
    "print(l1)\n",
    "l1.append('a')     # add an element\n",
    "print(l1)\n",
    "del l1[2]          # remove an element\n",
    "print(l1)\n",
    "print(len(l1))     # length of the list\n",
    "print('The first element is', l1[1])\n",
    "empty_list = []    # create an empty list\n",
    "print(len(empty_list))\n",
    "# create a list from range: [0-10)\n",
    "l2 = list(range(10))\n",
    "print(l2)\n",
    "# create a list from range: [5-10)\n",
    "l3 = list(range(5, 10))\n",
    "print(l3)"
   ],
   "metadata": {
    "collapsed": false,
    "pycharm": {
     "name": "#%%\n"
    }
   }
  },
  {
   "cell_type": "code",
   "execution_count": 8,
   "outputs": [
    {
     "name": "stdout",
     "output_type": "stream",
     "text": [
      "[1, 2, 3, 4, 5]\n",
      "[1, 2, 3, 4, 5]\n",
      "[1, 2, 128, 4, 5]\n"
     ]
    }
   ],
   "source": [
    "#Copy a list\n",
    "original_list = list(range(1, 6))\n",
    "print(original_list)\n",
    "new_list = original_list.copy()\n",
    "new_list[2] = 128\n",
    "print(original_list)\n",
    "print(new_list)"
   ],
   "metadata": {
    "collapsed": false,
    "pycharm": {
     "name": "#%%\n"
    }
   }
  },
  {
   "cell_type": "code",
   "execution_count": 9,
   "outputs": [
    {
     "name": "stdout",
     "output_type": "stream",
     "text": [
      "[1, 2, 3, 4, 5]\n",
      "[1, 2, 128, 4, 5]\n",
      "[1, 2, 128, 4, 5]\n"
     ]
    }
   ],
   "source": [
    "original_list = list(range(1, 6))\n",
    "print(original_list)\n",
    "new_list = original_list\n",
    "new_list[2] = 128\n",
    "print(original_list)\n",
    "print(new_list)"
   ],
   "metadata": {
    "collapsed": false,
    "pycharm": {
     "name": "#%%\n"
    }
   }
  },
  {
   "cell_type": "markdown",
   "source": [
    "#### Dictionary"
   ],
   "metadata": {
    "collapsed": false,
    "pycharm": {
     "name": "#%% md\n"
    }
   }
  },
  {
   "cell_type": "code",
   "execution_count": 10,
   "outputs": [
    {
     "name": "stdout",
     "output_type": "stream",
     "text": [
      "{'name': 'John', 'age': 36}\n",
      "36\n",
      "{'name': 'John', 'age': 27}\n",
      "{'name': 'John', 'age': 27, 'gender': 'Male'}\n"
     ]
    }
   ],
   "source": [
    "x = {\"name\" : \"John\", \"age\" : 36}\n",
    "print(x)\n",
    "\n",
    "x[\"name\"]\n",
    "\n",
    "x[\"age\"]\n",
    "\n",
    "print(x.get('age'))\n",
    "\n",
    "# update value\n",
    "x['age'] = 27\n",
    "print(x)\n",
    "\n",
    "# add item\n",
    "x['gender'] = 'Male'\n",
    "print(x)"
   ],
   "metadata": {
    "collapsed": false,
    "pycharm": {
     "name": "#%%\n"
    }
   }
  },
  {
   "cell_type": "markdown",
   "source": [
    "#### Boolean\n",
    "\n",
    "- What does the `==` symbol mean? What about `!=`?\n",
    "\n",
    "  `==` is \"equals\", `!=` is \"does not equal\".\n",
    "\n",
    "- What is the difference between `=` and `==`?\n",
    "\n",
    "  `=` is for assigning some value to a variable, while `==` is for testing for equality between the two sides.\n"
   ],
   "metadata": {
    "collapsed": false,
    "pycharm": {
     "name": "#%% md\n"
    }
   }
  },
  {
   "cell_type": "code",
   "execution_count": 11,
   "outputs": [
    {
     "data": {
      "text/plain": "bool"
     },
     "execution_count": 11,
     "metadata": {},
     "output_type": "execute_result"
    }
   ],
   "source": [
    "#Boolean\n",
    "x = True\n",
    "type(x)"
   ],
   "metadata": {
    "collapsed": false,
    "pycharm": {
     "name": "#%%\n"
    }
   }
  },
  {
   "cell_type": "markdown",
   "source": [
    "### Conditions\n",
    "\n",
    "\n",
    "- What does the `if` keyword do?\n",
    "\n",
    "  This is a conditional statement: `if CONDITION:` means: \"if `CONDITION` evaluates to `True`, then execute the code that follows directly after the statement\"\n",
    "\n",
    "- How about an `if ... else` statement?\n",
    "```python\n",
    "  if CONDITION_A:\n",
    "      STATEMENT_A\n",
    "  else:\n",
    "      STATEMENT_B\n",
    "  ```"
   ],
   "metadata": {
    "collapsed": false,
    "pycharm": {
     "name": "#%% md\n"
    }
   }
  },
  {
   "cell_type": "markdown",
   "source": [
    "In this example, \"if `CONDITION_A` evaluates to `True`, then execute `STATEMENT_A`. Otherwise (if `CONDITION_A` evaluates to `False`), then execute `STATEMENT_B`. -->\n",
    "\n",
    "- How about `if ... elif ... else`?\n",
    "\n",
    "  ```python\n",
    "  if CONDITION_A:\n",
    "      STATEMENT_A\n",
    "  elif CONDITION_B:\n",
    "      STATEMENT_B\n",
    "  else:\n",
    "      STATEMENT_C\n",
    "  ```\n",
    "\n",
    "  In this example, \"if `CONDITION_A` evaluates to `True`, then execute `STATEMENT_A` only. Otherwise (if `CONDITION_A` evaluates to `False`), then check if `CONDITION_B` evaluates to `True` and if so, execute `STATEMENT_B` only. If both `CONDITION_A` and `CONDITION_B` evaluate to `False`, then execute `STATEMENT_C`. Note that here, we are only ever execute one of the `STATEMENT_`'s, even if multiple conditions evaluate to `True`.\n"
   ],
   "metadata": {
    "collapsed": false,
    "pycharm": {
     "name": "#%% md\n"
    }
   }
  },
  {
   "cell_type": "markdown",
   "source": [
    "### Task 1\n",
    "\n",
    "When you're dealing with booleans, and expressions that return a boolean in particular, we can execute different code depending on their True or False values, using `if`, `elif`, and `else` statements. Pay attention to the indentation and white space in Python, as this is very important! Indented blocks \"belong\" to the overhanging lines above them; you can think of this as \"stepping into\" indented blocks if conditions evaluate to true.\n",
    "\n",
    "This is a conditional statement: `if CONDITION:` means: \"if `CONDITION` evaluates to `True`, then execute the indented code that follows directly after the statement\"\n",
    "\n",
    "Here's an example for `if...else`:\n",
    "\n",
    "```python\n",
    "if CONDITION_A:\n",
    "    STATEMENT_A\n",
    "else:\n",
    "    STATEMENT_B\n",
    "```"
   ],
   "metadata": {
    "collapsed": false,
    "pycharm": {
     "name": "#%% md\n"
    }
   }
  },
  {
   "cell_type": "markdown",
   "source": [
    "In this example, \"if `CONDITION_A` evaluates to `True`, then execute `STATEMENT_A`. Otherwise (if `CONDITION_A` evaluates to `False`), then execute `STATEMENT_B`.\n",
    "\n",
    "And for `if...elif...else`:\n",
    "\n",
    "```python\n",
    "if CONDITION_A:\n",
    "    STATEMENT_A\n",
    "elif CONDITION_B:\n",
    "    STATEMENT_B\n",
    "else:\n",
    "    STATEMENT_C\n",
    "```\n",
    "\n",
    "(Note: `elif` stands for \"else if\", and you can have as many of these as you want in between the beginning `if` and ending `else` statements.)\n",
    "\n",
    "In this example, \"if `CONDITION_A` evaluates to `True`, then execute `STATEMENT_A` only. Otherwise (if `CONDITION_A` evaluates to `False`), then check if `CONDITION_B` evaluates to `True` and if so, execute `STATEMENT_B` only. If both `CONDITION_A` and `CONDITION_B` evaluate to `False`, then execute `STATEMENT_C`. Note that here, we are only ever execute one of the `STATEMENT_`'s, even if multiple conditions evaluate to `True`.\n",
    "\n",
    "- Use the definition: `my_list = [1, 2, 3]`. Create an if statement that checks if the last value of the list is equal to 3 and if so, prints \"the condition was true\"."
   ],
   "metadata": {
    "collapsed": false,
    "pycharm": {
     "name": "#%% md\n"
    }
   }
  },
  {
   "cell_type": "code",
   "execution_count": null,
   "outputs": [],
   "source": [],
   "metadata": {
    "collapsed": false,
    "pycharm": {
     "name": "#%%\n"
    }
   }
  },
  {
   "cell_type": "markdown",
   "source": [
    "- Building off of the above exercise, make the condition false (so that \"the condition was true\" no longer prints)."
   ],
   "metadata": {
    "collapsed": false,
    "pycharm": {
     "name": "#%% md\n"
    }
   }
  },
  {
   "cell_type": "code",
   "execution_count": null,
   "outputs": [],
   "source": [],
   "metadata": {
    "collapsed": false,
    "pycharm": {
     "name": "#%%\n"
    }
   }
  },
  {
   "cell_type": "markdown",
   "source": [
    "- Now, add an `else` clause that prints \"the condition was false\".\n"
   ],
   "metadata": {
    "collapsed": false,
    "pycharm": {
     "name": "#%% md\n"
    }
   }
  },
  {
   "cell_type": "code",
   "execution_count": null,
   "outputs": [],
   "source": [],
   "metadata": {
    "collapsed": false,
    "pycharm": {
     "name": "#%%\n"
    }
   }
  },
  {
   "cell_type": "markdown",
   "source": [
    "- Now, add an `elif` condition that checks if the length of the list is equal to 3 and if so, prints \"the elif condition is true\"."
   ],
   "metadata": {
    "collapsed": false,
    "pycharm": {
     "name": "#%% md\n"
    }
   }
  },
  {
   "cell_type": "code",
   "execution_count": null,
   "outputs": [],
   "source": [],
   "metadata": {
    "collapsed": false,
    "pycharm": {
     "name": "#%%\n"
    }
   }
  },
  {
   "cell_type": "markdown",
   "source": [
    "→ If-else statements are used to control the flow of your code.\n",
    "```python\n",
    "if condition:\n",
    "  # do something\n",
    "elif condition:\n",
    "  # do something\n",
    "else:\n",
    "  # do something\n",
    "```"
   ],
   "metadata": {
    "collapsed": false,
    "pycharm": {
     "name": "#%% md\n"
    }
   }
  },
  {
   "cell_type": "code",
   "execution_count": 12,
   "outputs": [
    {
     "name": "stdout",
     "output_type": "stream",
     "text": [
      "a is 100\n",
      "b is 33\n",
      "b is not greater than a\n"
     ]
    }
   ],
   "source": [
    "a = 100\n",
    "b = 33\n",
    "print('a is {0}'.format(a))\n",
    "print('b is {0}'.format(b))\n",
    "\n",
    "if b > a:\n",
    "    print(\"b is greater than a\")\n",
    "\n",
    "else:\n",
    "    print(\"b is not greater than a\")"
   ],
   "metadata": {
    "collapsed": false,
    "pycharm": {
     "name": "#%%\n"
    }
   }
  },
  {
   "cell_type": "code",
   "execution_count": 13,
   "outputs": [
    {
     "name": "stdout",
     "output_type": "stream",
     "text": [
      "a is 33\n",
      "b is 33\n",
      "b is equal to a\n"
     ]
    }
   ],
   "source": [
    "a = 33\n",
    "b = 33\n",
    "print('a is {0}'.format(a))\n",
    "print('b is {0}'.format(b))\n",
    "\n",
    "if b > a:\n",
    "    print(\"b is greater than a\")\n",
    "elif b < a:\n",
    "    print(\"b is not greater than a\")\n",
    "else:\n",
    "    print(\"b is equal to a\")"
   ],
   "metadata": {
    "collapsed": false,
    "pycharm": {
     "name": "#%%\n"
    }
   }
  },
  {
   "cell_type": "markdown",
   "source": [
    "### Task 2"
   ],
   "metadata": {
    "collapsed": false,
    "pycharm": {
     "name": "#%% md\n"
    }
   }
  },
  {
   "cell_type": "code",
   "execution_count": 15,
   "outputs": [
    {
     "name": "stdout",
     "output_type": "stream",
     "text": [
      "It's a good weather for a T-shirt\n"
     ]
    }
   ],
   "source": [
    "c = int(input('Enter degrees (c):\\n'))\n",
    "\n",
    "if c < 0:\n",
    "    print(\"It's cold, stay at home\")\n",
    "elif c < 20:\n",
    "    print(\"Put a jacket on\")\n",
    "else:\n",
    "    print(\"It's a good weather for a T-shirt\")"
   ],
   "metadata": {
    "collapsed": false,
    "pycharm": {
     "name": "#%%\n"
    }
   }
  },
  {
   "cell_type": "markdown",
   "source": [
    "### Task 3"
   ],
   "metadata": {
    "collapsed": false,
    "pycharm": {
     "name": "#%% md\n"
    }
   }
  },
  {
   "cell_type": "code",
   "execution_count": 16,
   "outputs": [
    {
     "ename": "ValueError",
     "evalue": "invalid literal for int() with base 10: ''",
     "output_type": "error",
     "traceback": [
      "\u001B[0;31m---------------------------------------------------------------------------\u001B[0m",
      "\u001B[0;31mValueError\u001B[0m                                Traceback (most recent call last)",
      "Cell \u001B[0;32mIn [16], line 1\u001B[0m\n\u001B[0;32m----> 1\u001B[0m age \u001B[38;5;241m=\u001B[39m \u001B[38;5;28;43mint\u001B[39;49m\u001B[43m(\u001B[49m\u001B[38;5;28;43minput\u001B[39;49m\u001B[43m(\u001B[49m\u001B[38;5;124;43m'\u001B[39;49m\u001B[38;5;124;43mEnter your age:\u001B[39;49m\u001B[38;5;130;43;01m\\n\u001B[39;49;00m\u001B[38;5;124;43m'\u001B[39;49m\u001B[43m)\u001B[49m\u001B[43m)\u001B[49m\n\u001B[1;32m      2\u001B[0m hour \u001B[38;5;241m=\u001B[39m \u001B[38;5;28mint\u001B[39m(\u001B[38;5;28minput\u001B[39m(\u001B[38;5;124m'\u001B[39m\u001B[38;5;124mWhat is the hour? (0-24)\u001B[39m\u001B[38;5;130;01m\\n\u001B[39;00m\u001B[38;5;124m'\u001B[39m))\n\u001B[1;32m      4\u001B[0m is_late \u001B[38;5;241m=\u001B[39m hour \u001B[38;5;241m>\u001B[39m\u001B[38;5;241m=\u001B[39m \u001B[38;5;241m22\u001B[39m\n",
      "\u001B[0;31mValueError\u001B[0m: invalid literal for int() with base 10: ''"
     ]
    }
   ],
   "source": [
    "age = int(input('Enter your age:\\n'))\n",
    "hour = int(input('What is the hour? (0-24)\\n'))\n",
    "\n",
    "is_late = hour >= 22\n",
    "is_too_young = age <= 12\n",
    "\n",
    "if is_late:\n",
    "    if is_too_young:\n",
    "        print('You should be sleeping ...')\n",
    "    else:\n",
    "        print('Want to watch a movie?')\n",
    "else:\n",
    "    print('Go for a walk!')"
   ],
   "metadata": {
    "collapsed": false,
    "pycharm": {
     "name": "#%%\n"
    }
   }
  },
  {
   "cell_type": "markdown",
   "source": [
    "### Task 13 - Lists\n",
    "\n",
    "Lists are one of the more complex Python data types. Lists hold other data types like strings, integers, floats, and even lists. Each list item has an index, like strings. The index starts from 0. Just as with strings, the `len` function also gives you the length of a list. Also like strings, you can slice a list, which means to get some part of the overall list. Here are some examples to illustrate this:\n"
   ],
   "metadata": {
    "collapsed": false,
    "pycharm": {
     "name": "#%% md\n"
    }
   }
  },
  {
   "cell_type": "code",
   "execution_count": 17,
   "outputs": [],
   "source": [
    "# creating some lists\n",
    "fruits = ['apple','banana','orange']\n",
    "stuff = [12, 'asdf', 123.013, [1,2,3]]"
   ],
   "metadata": {
    "collapsed": false,
    "pycharm": {
     "name": "#%%\n"
    }
   }
  },
  {
   "cell_type": "code",
   "execution_count": 18,
   "outputs": [],
   "source": [
    "# here's the indexing\n",
    "fruits = ['apple','banana','orange']\n",
    "#            0        1        2\n",
    "# like strings, lists can also use negative indexing\n",
    "fruits = ['apple','banana','orange']\n",
    "#           -3       -2        -1"
   ],
   "metadata": {
    "collapsed": false,
    "pycharm": {
     "name": "#%%\n"
    }
   }
  },
  {
   "cell_type": "code",
   "execution_count": null,
   "outputs": [],
   "source": [
    "# get the length of the list\n",
    "len(fruits)"
   ],
   "metadata": {
    "collapsed": false,
    "pycharm": {
     "name": "#%%\n"
    }
   }
  },
  {
   "cell_type": "code",
   "execution_count": null,
   "outputs": [],
   "source": [
    "# slice a list\n",
    "fruits[:2]"
   ],
   "metadata": {
    "collapsed": false,
    "pycharm": {
     "name": "#%%\n"
    }
   }
  },
  {
   "cell_type": "code",
   "execution_count": null,
   "outputs": [],
   "source": [
    "fruits[1:3]"
   ],
   "metadata": {
    "collapsed": false,
    "pycharm": {
     "name": "#%%\n"
    }
   }
  },
  {
   "cell_type": "markdown",
   "source": [
    "- Create a list with the first names of your breakout room group, and assign this to the variable `first_names`. Print the list."
   ],
   "metadata": {
    "collapsed": false,
    "pycharm": {
     "name": "#%% md\n"
    }
   }
  },
  {
   "cell_type": "code",
   "execution_count": null,
   "outputs": [],
   "source": [],
   "metadata": {
    "collapsed": false,
    "pycharm": {
     "name": "#%%\n"
    }
   }
  },
  {
   "cell_type": "markdown",
   "source": [
    "- Print out the value of the second name in `first_names`. (Hint: use the bracket notation asa with strings.)"
   ],
   "metadata": {
    "collapsed": false,
    "pycharm": {
     "name": "#%% md\n"
    }
   }
  },
  {
   "cell_type": "code",
   "execution_count": null,
   "outputs": [],
   "source": [],
   "metadata": {
    "collapsed": false,
    "pycharm": {
     "name": "#%%\n"
    }
   }
  },
  {
   "cell_type": "markdown",
   "source": [
    "- Print the length of the list of names."
   ],
   "metadata": {
    "collapsed": false,
    "pycharm": {
     "name": "#%% md\n"
    }
   }
  },
  {
   "cell_type": "code",
   "execution_count": null,
   "outputs": [],
   "source": [],
   "metadata": {
    "collapsed": false,
    "pycharm": {
     "name": "#%%\n"
    }
   }
  },
  {
   "cell_type": "markdown",
   "source": [
    "- Create a slice of the list containing the first two names and print this slice."
   ],
   "metadata": {
    "collapsed": false,
    "pycharm": {
     "name": "#%% md\n"
    }
   }
  },
  {
   "cell_type": "code",
   "execution_count": null,
   "outputs": [],
   "source": [],
   "metadata": {
    "collapsed": false,
    "pycharm": {
     "name": "#%%\n"
    }
   }
  },
  {
   "cell_type": "markdown",
   "source": [
    "### Task 14 - Appending and removing elements from a list\n",
    "\n",
    "There are several methods that you can use with lists. The `.append()` method adds an item to a list, while the `.remove()` method removes an item from the list:\n",
    "\n",
    "```py\n",
    "fruits = ['apple','banana','orange']\n",
    "fruits.append('mango')\n",
    "# value of fruits is now: ['apple','banana','orange','mango']\n",
    "fruits.remove('banana')\n",
    "# value of fruits is now: ['apple','orange','mango']\n",
    "```\n",
    "\n",
    "- Using the list of your names (`first_names`), add one name and print the list."
   ],
   "metadata": {
    "collapsed": false,
    "pycharm": {
     "name": "#%% md\n"
    }
   }
  },
  {
   "cell_type": "code",
   "execution_count": null,
   "outputs": [],
   "source": [],
   "metadata": {
    "collapsed": false,
    "pycharm": {
     "name": "#%%\n"
    }
   }
  },
  {
   "cell_type": "markdown",
   "source": [
    "- Using the list of your names (`first_names`), remove one name and print the list."
   ],
   "metadata": {
    "collapsed": false,
    "pycharm": {
     "name": "#%% md\n"
    }
   }
  },
  {
   "cell_type": "code",
   "execution_count": null,
   "outputs": [],
   "source": [],
   "metadata": {
    "collapsed": false,
    "pycharm": {
     "name": "#%%\n"
    }
   }
  },
  {
   "cell_type": "markdown",
   "source": [
    "### Task 15 - Dictionaries\n",
    "\n",
    "Dictionaries are a Python data structure. While lists allow you to create ordered collections of values, dictionaries allow you to create collections of key / value pairs. An analogy for a dictionary is a telephone book: you can look up a telephone number (value) by a person's name (key).\n",
    "\n",
    "Here are some dictionary examples:\n",
    "\n",
    "```py\n",
    "empty_dict = dict()\n",
    "dog = { 'name': 'Roger' }\n",
    "# assign the value: 8 to the key: 'age'\n",
    "dog['age'] = 8\n",
    "# the dog dictionary now looks like: { 'name': 'Roger', 'age': 8 }\n",
    "\n",
    "# access a value by a key\n",
    "dog['name']\n",
    "# outputs: 'Roger'\n",
    "```"
   ],
   "metadata": {
    "collapsed": false,
    "pycharm": {
     "name": "#%% md\n"
    }
   }
  },
  {
   "cell_type": "code",
   "execution_count": null,
   "outputs": [],
   "source": [],
   "metadata": {
    "collapsed": false,
    "pycharm": {
     "name": "#%%\n"
    }
   }
  },
  {
   "cell_type": "markdown",
   "source": [
    "Dictionaries also contain the `.keys()`, `.values()`, and `.items()` methods which return iterables (like lists) of these values:\n",
    "\n",
    "```py\n",
    "list(dog.keys())\n",
    "# outputs: ['name', 'age']\n",
    "list(dog.values())\n",
    "# outputs: ['Roger', 8]\n",
    "list(dog.items())\n",
    "# outputs: [('name', 'Roger'), ('age', 8)]\n",
    "```"
   ],
   "metadata": {
    "collapsed": false,
    "pycharm": {
     "name": "#%% md\n"
    }
   }
  },
  {
   "cell_type": "markdown",
   "source": [
    "- Create a dictionary called `person` with the keys `first_name` amd `last_name` and give them some values. Print out the dictionary."
   ],
   "metadata": {
    "collapsed": false,
    "pycharm": {
     "name": "#%% md\n"
    }
   }
  },
  {
   "cell_type": "code",
   "execution_count": null,
   "outputs": [],
   "source": [],
   "metadata": {
    "collapsed": false,
    "pycharm": {
     "name": "#%%\n"
    }
   }
  },
  {
   "cell_type": "markdown",
   "source": [
    "- In the `person` dictionary, assign the `job` key to the value `programmer`, and print out the dictionary."
   ],
   "metadata": {
    "collapsed": false,
    "pycharm": {
     "name": "#%% md\n"
    }
   }
  },
  {
   "cell_type": "code",
   "execution_count": null,
   "outputs": [],
   "source": [],
   "metadata": {
    "collapsed": false,
    "pycharm": {
     "name": "#%%\n"
    }
   }
  },
  {
   "cell_type": "markdown",
   "source": [
    "- Access and print out the value of the `first_name` key in the `person` dictionary."
   ],
   "metadata": {
    "collapsed": false,
    "pycharm": {
     "name": "#%% md\n"
    }
   }
  },
  {
   "cell_type": "code",
   "execution_count": null,
   "outputs": [],
   "source": [],
   "metadata": {
    "collapsed": false,
    "pycharm": {
     "name": "#%%\n"
    }
   }
  },
  {
   "cell_type": "markdown",
   "source": [
    "- Print out the keys, values, and items in the `person` dictionary."
   ],
   "metadata": {
    "collapsed": false,
    "pycharm": {
     "name": "#%% md\n"
    }
   }
  },
  {
   "cell_type": "code",
   "execution_count": null,
   "outputs": [],
   "source": [],
   "metadata": {
    "collapsed": false,
    "pycharm": {
     "name": "#%%\n"
    }
   }
  },
  {
   "cell_type": "markdown",
   "source": [
    "### Task 16 - Booleans\n",
    "\n",
    "Booleans may only be one of two values: `True` or `False`. These are like on-off switches, where True is on and False is off. These states are mutually exclusive -- a condition can only be either `True` or `False` but not both. You can use the `not` keyword to \"flip the switch\" of the boolean value.\n",
    "\n",
    "```py\n",
    "val1 = True\n",
    "val2 = not True\n",
    "print(val2)\n",
    "# outputs: False\n",
    "```"
   ],
   "metadata": {
    "collapsed": false,
    "pycharm": {
     "name": "#%% md\n"
    }
   }
  },
  {
   "cell_type": "markdown",
   "source": [
    "- Create a variable called `boolean_var` and set it to `False`."
   ],
   "metadata": {
    "collapsed": false,
    "pycharm": {
     "name": "#%% md\n"
    }
   }
  },
  {
   "cell_type": "code",
   "execution_count": null,
   "outputs": [],
   "source": [],
   "metadata": {
    "collapsed": false,
    "pycharm": {
     "name": "#%%\n"
    }
   }
  },
  {
   "cell_type": "markdown",
   "source": [
    "- Print the value of the opposite of `boolean_var` (using `not`)."
   ],
   "metadata": {
    "collapsed": false,
    "pycharm": {
     "name": "#%% md\n"
    }
   }
  },
  {
   "cell_type": "code",
   "execution_count": null,
   "outputs": [],
   "source": [],
   "metadata": {
    "collapsed": false,
    "pycharm": {
     "name": "#%%\n"
    }
   }
  },
  {
   "cell_type": "markdown",
   "source": [
    "### Task 17 - Comparisons\n",
    "\n",
    "There are many comparison operators in Python. All of these operators return a boolean `True` or `False` value. Here are some of these operators:\n",
    "\n",
    "- `==`: equality operator: compares two values and returns True if they're equivalent or False if they are not\n",
    "- `!=`: inequality operator: opposite of equality, returns True if two values are not equivalent and False if they are\n",
    "- `>`: greater than operator: returns True if the left side is greater than the right side and False if not\n",
    "- `<`: less than operator: returns True if the left side is less than the right side and False if not\n",
    "\n",
    "Note that you can assign a boolean expression to a variable:\n",
    "\n",
    "```py\n",
    "a = 1 > 2\n",
    "print(a)\n",
    "# outputs: False\n",
    "```"
   ],
   "metadata": {
    "collapsed": false,
    "pycharm": {
     "name": "#%% md\n"
    }
   }
  },
  {
   "cell_type": "markdown",
   "source": [
    "Assign these examples to variables and print them out:\n",
    "- `1 == 1`\n",
    "- `1 == '1'`\n",
    "- `2 != '2'`\n",
    "- `2 < 4`\n",
    "- `2 > 3`\n",
    "- `1 != True`\n",
    "- `0 != False`\n",
    "\n",
    "Were any of these results surprising?"
   ],
   "metadata": {
    "collapsed": false,
    "pycharm": {
     "name": "#%% md\n"
    }
   }
  },
  {
   "cell_type": "code",
   "execution_count": null,
   "outputs": [],
   "source": [],
   "metadata": {
    "collapsed": false,
    "pycharm": {
     "name": "#%%\n"
    }
   }
  }
 ],
 "metadata": {
  "kernelspec": {
   "display_name": "Python 3.9.12 ('base': conda)",
   "language": "python",
   "name": "python3"
  },
  "language_info": {
   "codemirror_mode": {
    "name": "ipython",
    "version": 3
   },
   "file_extension": ".py",
   "mimetype": "text/x-python",
   "name": "python",
   "nbconvert_exporter": "python",
   "pygments_lexer": "ipython3",
   "version": "3.9.12"
  },
  "vscode": {
   "interpreter": {
    "hash": "2d63cf38a8ddc3101a2c0f32b71647b4096a78b8efd4c1bbcf73ffeaf57c27fa"
   }
  }
 },
 "nbformat": 4,
 "nbformat_minor": 5
}