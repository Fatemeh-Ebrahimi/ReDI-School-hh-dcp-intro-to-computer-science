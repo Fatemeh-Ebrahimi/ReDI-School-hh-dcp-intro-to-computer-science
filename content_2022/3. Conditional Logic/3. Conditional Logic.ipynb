{
 "cells": [
  {
   "cell_type": "markdown",
   "id": "31e705ff-746d-4195-b133-978f0f8e34dd",
   "metadata": {},
   "source": [
    "## Recap"
   ]
  },
  {
   "cell_type": "markdown",
   "id": "9b49d4f9-3eb8-4ec9-b8b2-e08b604d333f",
   "metadata": {},
   "source": [
    "## Type"
   ]
  },
  {
   "cell_type": "code",
   "execution_count": 21,
   "id": "67f23a43-ea6e-4d47-a463-67251f1f88f7",
   "metadata": {},
   "outputs": [
    {
     "name": "stdout",
     "output_type": "stream",
     "text": [
      "John\n",
      "<class 'str'>\n"
     ]
    }
   ],
   "source": [
    "# Assign a value to a variable\n",
    "name = 'John'\n",
    "# Print the value of the variable\n",
    "print(name)\n",
    "# Print the type of the variable\n",
    "print(type(name))"
   ]
  },
  {
   "cell_type": "markdown",
   "id": "eeebd228-e914-4908-8087-f5348ca1f5f0",
   "metadata": {},
   "source": [
    "## Exercise\n",
    "Apply above step for a number, list, boolean and dictinory"
   ]
  },
  {
   "cell_type": "markdown",
   "id": "8580bfb0-55f1-4da7-a11b-56ac1d29f89a",
   "metadata": {
    "pycharm": {
     "name": "#%% md\n"
    }
   },
   "source": [
    "## List\n",
    "Lists are one of the more complex Python data types. Lists hold other data types like strings, integers, floats, and even lists. Each list item has an index, like strings. The index starts from 0. "
   ]
  },
  {
   "cell_type": "code",
   "execution_count": 22,
   "id": "695d3cf8-505f-4b95-bf09-6885d3e0aa7b",
   "metadata": {},
   "outputs": [
    {
     "name": "stdout",
     "output_type": "stream",
     "text": [
      "x ['apple', 'banana', 'cherry']\n",
      "<class 'list'>\n",
      "apple\n",
      "mylist ['apple', 'banana', 'cherry']\n",
      "<class 'list'>\n"
     ]
    }
   ],
   "source": [
    "x = [\"apple\", \"banana\", \"cherry\"]\n",
    "print(\"x\", x)\n",
    "print(type(x))\n",
    "\n",
    "print(x[0]) #first item of the list\n",
    "\n",
    "mylist=list(('apple','banana',\"cherry\"))  # note the double round-brackets\n",
    "print(\"mylist\", mylist)\n",
    "\n",
    "print(type(mylist))"
   ]
  },
  {
   "cell_type": "markdown",
   "id": "6736144b-8bcb-40a7-b37b-088b9c46d842",
   "metadata": {},
   "source": [
    "Just as with strings, the `len` function also gives you the length of a list. Also like strings, you can slice a list, which means to get some part of the overall list. Here are some examples to illustrate this:"
   ]
  },
  {
   "cell_type": "code",
   "execution_count": 23,
   "id": "350cb2e8-a9c9-4679-8566-05bc207fc7ae",
   "metadata": {},
   "outputs": [
    {
     "data": {
      "text/plain": [
       "['banana', 'orange']"
      ]
     },
     "execution_count": 23,
     "metadata": {},
     "output_type": "execute_result"
    }
   ],
   "source": [
    "# creating some lists\n",
    "fruits = ['apple','banana','orange']\n",
    "stuff = [12, 'asdf', 123.013, [1,2,3]]\n",
    "\n",
    "# here's the indexing\n",
    "fruits = ['apple','banana','orange']\n",
    "#            0        1        2\n",
    "# like strings, lists can also use negative indexing\n",
    "fruits = ['apple','banana','orange']\n",
    "#           -3       -2        -1\n",
    "\n",
    "# get the length of the list\n",
    "len(fruits)\n",
    "# outputs: 3\n",
    "\n",
    "# slice a list\n",
    "fruits[:2]\n",
    "# outputs: ['apple', 'banana']\n",
    "fruits[1:3]\n",
    "# outputs: ['banana', 'orange']"
   ]
  },
  {
   "cell_type": "code",
   "execution_count": 24,
   "id": "45332795-9d14-4cb3-b7d6-e24029ab6ec1",
   "metadata": {},
   "outputs": [
    {
     "name": "stdout",
     "output_type": "stream",
     "text": [
      "[1, 5, 0, 4]\n",
      "[0, 1, 4, 5]\n",
      "[0, 1, 4, 5, 'a']\n",
      "[0, 1, 5, 'a']\n",
      "4\n",
      "The first element is 1\n",
      "0\n",
      "[0, 1, 2, 3, 4, 5, 6, 7, 8, 9]\n",
      "[5, 6, 7, 8, 9]\n"
     ]
    }
   ],
   "source": [
    "l1 = [1, 5, 0, 4]  # create a list\n",
    "print(l1)\n",
    "l1.sort()          # sort the list\n",
    "print(l1)\n",
    "l1.append('a')     # add an element\n",
    "print(l1)\n",
    "del l1[2]          # remove an element\n",
    "print(l1)\n",
    "print(len(l1))     # length of the list\n",
    "print('The first element is', l1[1])\n",
    "empty_list = []    # create an empty list\n",
    "print(len(empty_list))\n",
    "# create a list from range: [0-10)\n",
    "l2 = list(range(10))\n",
    "print(l2)\n",
    "# create a list from range: [5-10)\n",
    "l3 = list(range(5, 10))\n",
    "print(l3)"
   ]
  },
  {
   "cell_type": "code",
   "execution_count": 25,
   "id": "d008dd7e-3ce1-4e87-a8c1-262e5919f316",
   "metadata": {},
   "outputs": [
    {
     "name": "stdout",
     "output_type": "stream",
     "text": [
      "[1, 2, 3, 4, 5]\n",
      "[1, 2, 3, 4, 5]\n",
      "[1, 2, 128, 4, 5]\n"
     ]
    }
   ],
   "source": [
    "#Copy a list\n",
    "original_list = list(range(1, 6))\n",
    "print(original_list)\n",
    "new_list = original_list.copy()\n",
    "new_list[2] = 128\n",
    "print(original_list)\n",
    "print(new_list)"
   ]
  },
  {
   "cell_type": "code",
   "execution_count": 26,
   "id": "dd7ee4af-fdc4-4acb-8b84-b0db027e2814",
   "metadata": {},
   "outputs": [
    {
     "name": "stdout",
     "output_type": "stream",
     "text": [
      "[1, 2, 3, 4, 5]\n",
      "[1, 2, 128, 4, 5]\n",
      "[1, 2, 128, 4, 5]\n"
     ]
    }
   ],
   "source": [
    "original_list = list(range(1, 6))\n",
    "print(original_list)\n",
    "new_list = original_list\n",
    "new_list[2] = 128\n",
    "print(original_list)\n",
    "print(new_list)"
   ]
  },
  {
   "cell_type": "markdown",
   "id": "d23a7e9f-1326-4035-b369-258c7e9cce17",
   "metadata": {},
   "source": [
    "## Dictionary\n",
    "Dictionaries are a Python data structure. While lists allow you to create ordered collections of values, dictionaries allow you to create collections of key / value pairs. An analogy for a dictionary is a telephone book: you can look up a telephone number (value) by a person's name (key).\n",
    "\n",
    "Here are some dictionary examples:"
   ]
  },
  {
   "cell_type": "code",
   "execution_count": 27,
   "id": "83ca30ba-ece0-4f49-a6d6-39bd9353fc67",
   "metadata": {},
   "outputs": [
    {
     "name": "stdout",
     "output_type": "stream",
     "text": [
      "{'name': 'John', 'age': 36}\n",
      "36\n",
      "{'name': 'John', 'age': 27}\n",
      "{'name': 'John', 'age': 27, 'gender': 'Male'}\n"
     ]
    }
   ],
   "source": [
    "x = {\"name\" : \"John\", \"age\" : 36}\n",
    "print(x)\n",
    "\n",
    "x[\"name\"]\n",
    "\n",
    "x[\"age\"]\n",
    "\n",
    "print(x.get('age'))\n",
    "\n",
    "# update value\n",
    "x['age'] = 27\n",
    "print(x)\n",
    "\n",
    "# add item\n",
    "x['gender'] = 'Male'\n",
    "print(x)"
   ]
  },
  {
   "cell_type": "code",
   "execution_count": 28,
   "id": "092cd450-3d17-4997-8546-d1d8fa7188aa",
   "metadata": {},
   "outputs": [
    {
     "data": {
      "text/plain": [
       "'Roger'"
      ]
     },
     "execution_count": 28,
     "metadata": {},
     "output_type": "execute_result"
    }
   ],
   "source": [
    "empty_dict = dict()\n",
    "dog = { 'name': 'Roger' }\n",
    "# assign the value: 8 to the key: 'age'\n",
    "dog['age'] = 8\n",
    "# the dog dictionary now looks like: { 'name': 'Roger', 'age': 8 }\n",
    "\n",
    "# access a value by a key\n",
    "dog['name']\n",
    "# outputs: 'Roger'"
   ]
  },
  {
   "cell_type": "markdown",
   "id": "f49c30a2-8101-4bbd-bb25-03bd8a1bee52",
   "metadata": {},
   "source": [
    "  Dictionaries also contain the `.keys()`, `.values()`, and `.items()` methods which return iterables (like lists) of these values:\n"
   ]
  },
  {
   "cell_type": "code",
   "execution_count": 29,
   "id": "f1fb07ef-9475-4473-a510-59424cb49ca9",
   "metadata": {},
   "outputs": [
    {
     "data": {
      "text/plain": [
       "[('name', 'Roger'), ('age', 8)]"
      ]
     },
     "execution_count": 29,
     "metadata": {},
     "output_type": "execute_result"
    }
   ],
   "source": [
    "list(dog.keys())\n",
    "# outputs: ['name', 'age']\n",
    "list(dog.values())\n",
    "# outputs: ['Roger', 8]\n",
    "list(dog.items())\n",
    "# outputs: [('name', 'Roger'), ('age', 8)]"
   ]
  },
  {
   "cell_type": "markdown",
   "id": "94e201e5-c6d6-4a09-b4dd-c13ac4008564",
   "metadata": {},
   "source": [
    "## Boolean\n",
    "Booleans may only be one of two values: `True` or `False`. These are like on-off switches, where True is on and False is off. These states are mutually exclusive -- a condition can only be either `True` or `False` but not both. You can use the `not` keyword to \"flip the switch\" of the boolean value.\n"
   ]
  },
  {
   "cell_type": "code",
   "execution_count": 30,
   "id": "b4431b43-6012-4fa3-9541-3f30eb632e07",
   "metadata": {},
   "outputs": [
    {
     "data": {
      "text/plain": [
       "bool"
      ]
     },
     "execution_count": 30,
     "metadata": {},
     "output_type": "execute_result"
    }
   ],
   "source": [
    "#Boolean\n",
    "x = True\n",
    "type(x)"
   ]
  },
  {
   "cell_type": "code",
   "execution_count": 31,
   "id": "df1450dc-eb9f-494e-b1c1-50494115164d",
   "metadata": {},
   "outputs": [
    {
     "name": "stdout",
     "output_type": "stream",
     "text": [
      "False\n"
     ]
    }
   ],
   "source": [
    "val1 = True\n",
    "val2 = not True\n",
    "print(val2)\n",
    "# outputs: False"
   ]
  },
  {
   "cell_type": "markdown",
   "id": "a9e2b12c-dcdd-4519-acf5-debab5bbd29f",
   "metadata": {},
   "source": [
    " - What does the `==` symbol mean? What about `!=`?\n",
    "\n",
    "  `==` is \"equals\", `!=` is \"does not equal\".\n",
    "\n",
    "  - `==`: equality operator: compares two values and returns True if they're equivalent or False if they are not\n",
    "  - `!=`: inequality operator: opposite of equality, returns True if two values are not equivalent and False if they are\n",
    "\n",
    "  - What is the difference between `=` and `==`?\n",
    "\n",
    "  `=` is for assigning some value to a variable, while `==` is for testing for equality between the two sides.\n",
    "\n",
    "  - `>`: greater than operator: returns True if the left side is greater than the right side and False if not\n",
    "  - `<`: less than operator: returns True if the left side is less than the right side and False if not"
   ]
  },
  {
   "cell_type": "markdown",
   "id": "99195592-b30d-48dd-b2ce-21f865436644",
   "metadata": {},
   "source": [
    "## Conditions\n",
    "\n",
    "\n",
    "- What does the `if` keyword do?\n",
    "\n",
    "This is a conditional statement: `if CONDITION:` means: \"if `CONDITION` evaluates to `True`, then execute the code that follows directly after the statement\"\n",
    "\n",
    "- How about an `if ... else` statement?\n",
    "\n",
    "```python\n",
    "if CONDITION_A:\n",
    "  STATEMENT_A\n",
    "else:\n",
    "  STATEMENT_B\n",
    "```\n",
    "\n",
    "In this example, \"if `CONDITION_A` evaluates to `True`, then execute `STATEMENT_A`. Otherwise (if `CONDITION_A` evaluates to `False`), then execute `STATEMENT_B`. -->\n",
    "\n",
    "- How about `if ... elif ... else`?\n",
    "\n",
    "```python\n",
    "if CONDITION_A:\n",
    "  STATEMENT_A\n",
    "elif CONDITION_B:\n",
    "  STATEMENT_B\n",
    "else:\n",
    "  STATEMENT_C\n",
    "```\n",
    "\n",
    "In this example, \"if `CONDITION_A` evaluates to `True`, then execute `STATEMENT_A` only. Otherwise (if `CONDITION_A` evaluates to `False`), then check if `CONDITION_B` evaluates to `True` and if so, execute `STATEMENT_B` only. If both `CONDITION_A` and `CONDITION_B` evaluate to `False`, then execute `STATEMENT_C`. Note that here, we are only ever execute one of the `STATEMENT_`'s, even if multiple conditions evaluate to `True`."
   ]
  },
  {
   "cell_type": "markdown",
   "id": "bfe49eb0-5b61-461e-8131-b5340729ce49",
   "metadata": {
    "pycharm": {
     "name": "#%% md\n"
    }
   },
   "source": [
    "### Exercise"
   ]
  },
  {
   "cell_type": "markdown",
   "id": "ae881b03-efa0-4e47-b109-1362acb17404",
   "metadata": {},
   "source": [
    "#### Exercise 1\n",
    "\n",
    "→ If-else statements are used to control the flow of your code.\n",
    "```python\n",
    "if condition:\n",
    "  # do something\n",
    "elif condition:\n",
    "  # do something\n",
    "else:\n",
    "  # do something\n",
    "```"
   ]
  },
  {
   "cell_type": "code",
   "execution_count": 32,
   "id": "713dda3a-dd47-4f8d-9592-62bf11f7f155",
   "metadata": {},
   "outputs": [
    {
     "name": "stdout",
     "output_type": "stream",
     "text": [
      "a is 100\n",
      "b is 33\n",
      "b is not greater than a\n"
     ]
    }
   ],
   "source": [
    "a = 100\n",
    "b = 33\n",
    "print('a is {0}'.format(a))\n",
    "print('b is {0}'.format(b))\n",
    "\n",
    "if b > a:\n",
    "    print(\"b is greater than a\")\n",
    "\n",
    "else:\n",
    "    print(\"b is not greater than a\")"
   ]
  },
  {
   "cell_type": "code",
   "execution_count": 33,
   "id": "0e4a6dc3-b112-40db-868d-de1f46ac501d",
   "metadata": {},
   "outputs": [
    {
     "name": "stdout",
     "output_type": "stream",
     "text": [
      "a is 33\n",
      "b is 33\n",
      "b is equal to a\n"
     ]
    }
   ],
   "source": [
    "a = 33\n",
    "b = 33\n",
    "print('a is {0}'.format(a))\n",
    "print('b is {0}'.format(b))\n",
    "\n",
    "if b > a:\n",
    "    print(\"b is greater than a\")\n",
    "elif b < a:\n",
    "    print(\"b is not greater than a\")\n",
    "else:\n",
    "    print(\"b is equal to a\")"
   ]
  },
  {
   "cell_type": "markdown",
   "id": "cccf0232-f7d2-4c49-83e9-795bd1aee042",
   "metadata": {},
   "source": [
    "### Exercise 2\n",
    "\n",
    "```python\n",
    "c = int(input('Enter degrees (c):\\n'))\n",
    "\n",
    "if c < 0:\n",
    "    print(\"It's cold, stay at home\")\n",
    "elif c < 20:\n",
    "    print(\"Put a jacket on\")\n",
    "else:\n",
    "    print(\"It's a good weather for a T-shirt\")\n",
    "```"
   ]
  },
  {
   "cell_type": "markdown",
   "id": "84047108-0c9b-4eb8-8864-eae06ac13128",
   "metadata": {},
   "source": [
    "### Exercise 3\n",
    "\n",
    "```python\n",
    "age = int(input('Enter your age:\\n'))\n",
    "hour = int(input('What is the hour? (0-24)\\n'))\n",
    "\n",
    "is_late = hour >= 22\n",
    "is_too_young = age <= 12\n",
    "\n",
    "if is_late:\n",
    "    if is_too_young:\n",
    "        print('You should be sleeping ...')\n",
    "    else:\n",
    "        print('Want to watch a movie?')\n",
    "else:\n",
    "    print('Go for a walk!')\n",
    "```"
   ]
  },
  {
   "cell_type": "markdown",
   "id": "5c879ed4-9785-4a76-a0bc-aa2b486d4ab1",
   "metadata": {
    "pycharm": {
     "name": "#%% md\n"
    }
   },
   "source": [
    "## Break-Out"
   ]
  },
  {
   "cell_type": "markdown",
   "id": "c4a1acaa-b36b-4bef-bff1-488e1c71b1c3",
   "metadata": {},
   "source": [
    "### Task 1 - List\n",
    "- Create a list with the first names of your breakout room group, and assign this to the variable `first_names`. Print the list.\n",
    "- Print out the value of the second name in `first_names`. (Hint: use the bracket notation asa with strings.)\n",
    "- Print the length of the list of names.\n",
    "- Create a slice of the list containing the first two names and print this slice.\n"
   ]
  },
  {
   "cell_type": "markdown",
   "id": "7d0a5789-c4aa-4f86-aca0-3926f880d196",
   "metadata": {},
   "source": [
    "### Task 2 - Appending and removing elements from a list\n",
    "There are several methods that you can use with lists. The `.append()` method adds an item to a list, while the `.remove()` method removes an item from the list:\n",
    "\n",
    "```py\n",
    "fruits = ['apple','banana','orange']\n",
    "fruits.append('mango')\n",
    "# value of fruits is now: ['apple','banana','orange','mango']\n",
    "fruits.remove('banana')\n",
    "# value of fruits is now: ['apple','orange','mango']\n",
    "```\n",
    "\n",
    "- Using the list of your names (`first_names`), add one name and print the list.\n",
    "- Using the list of your names (`first_names`), remove one name and print the list."
   ]
  },
  {
   "cell_type": "markdown",
   "id": "1ed8e1a5-f0af-49df-8771-4dfa63d3c459",
   "metadata": {},
   "source": [
    "### Task 3 - Dictionaries\n",
    "- Create a dictionary called `person` with the keys `first_name` amd `last_name` and give them some values. Print out the dictionary.\n",
    "- In the `person` dictionary, assign the `job` key to the value `programmer`, and print out the dictionary.\n",
    "- Access and print out the value of the `first_name` key in the `person` dictionary.\n",
    "- Print out the keys, values, and items in the `person` dictionary."
   ]
  },
  {
   "cell_type": "markdown",
   "id": "fa70b58a-29fa-4667-a3bb-f13240f70045",
   "metadata": {},
   "source": [
    "### Task 4 - Boolean\n",
    "- Create a variable called `boolean_var` and set it to `False`.\n",
    "- Print the value of the opposite of `boolean_var` (using `not`)."
   ]
  },
  {
   "cell_type": "markdown",
   "id": "cd2c42db-0ba4-407b-b413-e2363ca30f9d",
   "metadata": {},
   "source": [
    "### Task 5 - Comparision\n",
    "There are many comparison operators in Python. All of these operators return a boolean `True` or `False` value.\n",
    "\n",
    "Note that you can assign a boolean expression to a variable:\n",
    "\n",
    "```py\n",
    "a = 1 > 2\n",
    "print(a)\n",
    "# outputs: False\n",
    "```\n",
    "\n",
    "Assign these examples to variables and print them out:\n",
    "\n",
    "- `1 == 1`\n",
    "- `1 == '1'`\n",
    "- `2 != '2'`\n",
    "- `2 < 4`\n",
    "- `2 > 3`\n",
    "- `1 != True`\n",
    "- `0 != False`"
   ]
  },
  {
   "cell_type": "markdown",
   "id": "7783efd6-e894-41e3-89a8-b44715a83d8b",
   "metadata": {},
   "source": [
    "### Task 6 - Conditions\n",
    "- Use the definition: `my_list = [1, 2, 3]`. Create an if statement that checks if the last value of the list is equal to 3 and if so, prints \"the condition was true\".\n",
    "- Building off of the above exercise, make the condition false (so that \"the condition was true\" no longer prints).\n",
    "- Now, add an `else` clause that prints \"the condition was false\".\n",
    "- Now, add an `elif` condition that checks if the length of the list is equal to 3 and if so, prints \"the elif condition is true\"."
   ]
  },
  {
   "cell_type": "code",
   "execution_count": null,
   "id": "8633c298-e75d-4cf5-b0be-b4a5c7225d71",
   "metadata": {},
   "outputs": [],
   "source": []
  }
 ],
 "metadata": {
  "kernelspec": {
   "display_name": "Python 3 (ipykernel)",
   "language": "python",
   "name": "python3"
  },
  "language_info": {
   "codemirror_mode": {
    "name": "ipython",
    "version": 3
   },
   "file_extension": ".py",
   "mimetype": "text/x-python",
   "name": "python",
   "nbconvert_exporter": "python",
   "pygments_lexer": "ipython3",
   "version": "3.9.7"
  },
  "vscode": {
   "interpreter": {
    "hash": "2d63cf38a8ddc3101a2c0f32b71647b4096a78b8efd4c1bbcf73ffeaf57c27fa"
   }
  }
 },
 "nbformat": 4,
 "nbformat_minor": 5
}
