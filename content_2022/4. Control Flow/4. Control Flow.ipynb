{
 "cells": [
  {
   "cell_type": "markdown",
   "id": "7c7b2f7f-b6ba-443f-ba4b-45f938fbaaaf",
   "metadata": {
    "pycharm": {
     "name": "#%% md\n"
    }
   },
   "source": [
    "# 07 Nov - Control Flow (while and for loops)\n",
    "\n",
    "![python gif](https://media.giphy.com/media/KAq5w47R9rmTuvWOWa/giphy.gif)\n",
    "\n",
    "## Pre Requisites\n",
    "\n",
    "- Review the course content from last class, and try to continue going through the exercises! If you get stuck on any of them, no problem -- make a note of this so we can review these tasks at the beginning of class on Thursday.\n",
    "\n",
    "  {{< button \"../installing_python/\" \"Review 31/March - Installing Python\" >}}\n",
    "\n",
    "- (Optional) create a repository (local and remote) to gather your Python exercises from last class. Add and commit the file to the repository, and then push these to GitHub.\n",
    "- (Optional practice) go through exercises on [w3 schools for Python](https://www.w3schools.com/python/exercise.asp?filename=exercise_syntax1) through `Functions` section OR on particular areas that you would like to review. This is entirely optional but good practice! No need to go over `Lambda`, `Classes`, `Inheritance`, or `Modules` as we have not seen these yet.\n",
    "\n",
    "---\n",
    "\n",
    "## Class Curriculum\n",
    "\n",
    "| Section content                                                     | Expected time (mins) | Pre - Requirements |\n",
    "| ------------------------------------------------------------------- | -------------------- | ------------------ |\n",
    "| Lesson Goals                                                        | 5 minutes            | ❌                 |\n",
    "| Questions from last class & review of a few exercises               | 10-15 minutes        | ❌                 |\n",
    "| Overview of loops (for, while)                                      | 10-15 minutes        | ❌                 |\n",
    "| Hands-on Python exercises (in small groups)                         | 20 minutes           | ❌                 |\n",
    "| Break (in-person troubleshooting of Python installations if needed) | 10 minutes           | ❌                 |\n",
    "| Continue hands-on Python exercises (in small groups)                | rest of class        | ❌                 |\n",
    "| Check-out                                                           | 5 minutes            | ❌                 |\n",
    "\n",
    "## 0. Lesson Goals\n",
    "\n",
    "- Have a working development environment on Python.\n",
    "- Build familiarity with the concepts of data types, functions, and control flow (loops, conditionals)\n",
    "- Continue writing code in Python"
   ]
  },
  {
   "cell_type": "markdown",
   "source": [
    "## 1. Check-In\n",
    "\n",
    "- Are there any remaining questions from last class?\n",
    "- What exercises were the most challenging? (Respond in the chat)\n",
    "\n",
    "## 2. for and while loops\n",
    "\n",
    "Loops are a tool that help us execute a block of code a specified amount of times or based on a condition. In Python, there are two loops: `for` and `while` loops.\n",
    "\n",
    "### while loops\n",
    "\n",
    "`while` loops allow us to execute a block of code as long as the condition evaluates to `True`.\n",
    "\n",
    "![loop diagram](../images/loop_diagram.png)\n",
    "\n",
    "_Please excuse the ugly diagram :)_\n",
    "\n",
    "Syntax:\n",
    "\n",
    "```python\n",
    "while condition:\n",
    "    # do things\n",
    "```\n",
    "Examples:\n",
    "```python\n",
    "# This is called an \"infinite loop\" since the condition is always True!!\n",
    "while True:\n",
    "    print(\"I'm an infinite loop! I won't stop unless I'm forced to!\")\n",
    "```"
   ],
   "metadata": {
    "collapsed": false,
    "pycharm": {
     "name": "#%% md\n"
    }
   }
  },
  {
   "cell_type": "code",
   "execution_count": 1,
   "outputs": [
    {
     "name": "stdout",
     "output_type": "stream",
     "text": [
      "hello # 0\n",
      "hello # 1\n",
      "hello # 2\n",
      "hello # 3\n",
      "hello # 4\n",
      "hello # 5\n",
      "hello # 6\n",
      "hello # 7\n",
      "hello # 8\n",
      "hello # 9\n"
     ]
    }
   ],
   "source": [
    "count = 0\n",
    "while count < 10:\n",
    "    print(\"hello #\", count)\n",
    "    # increment the value of `count`\n",
    "    count += 1"
   ],
   "metadata": {
    "collapsed": false,
    "pycharm": {
     "name": "#%%\n"
    }
   }
  },
  {
   "cell_type": "code",
   "execution_count": 2,
   "outputs": [
    {
     "name": "stdout",
     "output_type": "stream",
     "text": [
      "you told me: bool\n",
      "you told me: 123\n",
      "you told me: yeah\n",
      "you told me: \n",
      "you told me: \n",
      "you told me: \n",
      "you told me: \n",
      "you told me: \n",
      "you told me: \n",
      "you told me: \n",
      "you told me: \n",
      "you told me: \n",
      "you told me: \n",
      "you told me: \n",
      "you told me: \n",
      "you told me: \n",
      "you told me: \n",
      "you told me: stop\n",
      "... and I'm stopping\n"
     ]
    }
   ],
   "source": [
    "text = ''\n",
    "while text != 'stop':\n",
    "    text = input('Tell me something:\\n')\n",
    "    print('you told me:', text)\n",
    "print('... and I\\'m stopping')"
   ],
   "metadata": {
    "collapsed": false,
    "pycharm": {
     "name": "#%%\n"
    }
   }
  },
  {
   "cell_type": "markdown",
   "source": [
    "Check-in question: can someone explain what's going on in each of these examples?"
   ],
   "metadata": {
    "collapsed": false,
    "pycharm": {
     "name": "#%% md\n"
    }
   }
  },
  {
   "cell_type": "markdown",
   "source": [
    "### for loops\n",
    "\n",
    "`for` loops provide a way to go through each value (or set of values) in an iterable (e.g. a list, string, dictionary, etc.) and execute a block of code that uses that value.\n",
    "\n",
    "Syntax:\n",
    "\n",
    "```python\n",
    "for variable(s) in iterable:\n",
    "    # do things\n",
    "```\n",
    "\n",
    "Examples: (feel free to try executing these in your IDLE terminal, notebook cell (in Colab), VSCode, or PyCharm :)\n"
   ],
   "metadata": {
    "collapsed": false,
    "pycharm": {
     "name": "#%% md\n"
    }
   }
  },
  {
   "cell_type": "code",
   "execution_count": 3,
   "outputs": [
    {
     "name": "stdout",
     "output_type": "stream",
     "text": [
      "1\n",
      "2\n",
      "3\n"
     ]
    }
   ],
   "source": [
    "for num in [1, 2, 3]:\n",
    "    print(num)"
   ],
   "metadata": {
    "collapsed": false,
    "pycharm": {
     "name": "#%%\n"
    }
   }
  },
  {
   "cell_type": "code",
   "execution_count": 4,
   "outputs": [
    {
     "name": "stdout",
     "output_type": "stream",
     "text": [
      "[12, 3, -11, 12.5, 146, 33.82]\n"
     ]
    }
   ],
   "source": [
    "#for loop over a list\n",
    "l = [12, 3, -11, 12.5, 146, 33.82]\n",
    "for num in l:\n",
    "    num += 50\n",
    "print(l)"
   ],
   "metadata": {
    "collapsed": false,
    "pycharm": {
     "name": "#%%\n"
    }
   }
  },
  {
   "cell_type": "code",
   "execution_count": 5,
   "outputs": [
    {
     "name": "stdout",
     "output_type": "stream",
     "text": [
      "w!!\n",
      "o!!\n",
      "r!!\n",
      "d!!\n"
     ]
    }
   ],
   "source": [
    "#for loop over a string\n",
    "for letter in 'word':\n",
    "    new_word = letter + '!!'\n",
    "    print(new_word)"
   ],
   "metadata": {
    "collapsed": false,
    "pycharm": {
     "name": "#%%\n"
    }
   }
  },
  {
   "cell_type": "code",
   "execution_count": 6,
   "outputs": [
    {
     "name": "stdout",
     "output_type": "stream",
     "text": [
      "1a\n",
      "2b\n"
     ]
    }
   ],
   "source": [
    "# tuples in a list and assignment to multiple variables\n",
    "for num, letter in [(1, 'a'), (2, 'b')]:\n",
    "    # Here, we convert number to string using `str` before concatenating with another string\n",
    "    print(str(num) + letter)"
   ],
   "metadata": {
    "collapsed": false,
    "pycharm": {
     "name": "#%%\n"
    }
   }
  },
  {
   "cell_type": "markdown",
   "source": [
    "With `for` loops, it can also be useful to use the `range` operator in Python which creates an iterable of numbers. The syntax of this is `range(start, end, step)`, but you will also see this as just `range(start, end)` or `range(end)` (in this last case, the `start` is assumed to be 0). Note that the `end` value is not included (in other words, \"numbers starting with `start` up until (not through) `end`\"). Here are some examples:"
   ],
   "metadata": {
    "collapsed": false,
    "pycharm": {
     "name": "#%% md\n"
    }
   }
  },
  {
   "cell_type": "code",
   "execution_count": 7,
   "outputs": [
    {
     "name": "stdout",
     "output_type": "stream",
     "text": [
      "0\n",
      "1\n",
      "2\n"
     ]
    }
   ],
   "source": [
    "for i in range(3):\n",
    "    print(i)"
   ],
   "metadata": {
    "collapsed": false,
    "pycharm": {
     "name": "#%%\n"
    }
   }
  },
  {
   "cell_type": "code",
   "execution_count": 8,
   "outputs": [
    {
     "data": {
      "text/plain": "[1, 2, 3]"
     },
     "execution_count": 8,
     "metadata": {},
     "output_type": "execute_result"
    }
   ],
   "source": [
    "# we can create a list out of a `range`\n",
    "list(range(1, 4))"
   ],
   "metadata": {
    "collapsed": false,
    "pycharm": {
     "name": "#%%\n"
    }
   }
  },
  {
   "cell_type": "code",
   "execution_count": 9,
   "outputs": [
    {
     "data": {
      "text/plain": "[-1, 2, 5, 8]"
     },
     "execution_count": 9,
     "metadata": {},
     "output_type": "execute_result"
    }
   ],
   "source": [
    "list(range(-1, 9, 3))  # here, the step (space between values) is 3"
   ],
   "metadata": {
    "collapsed": false,
    "pycharm": {
     "name": "#%%\n"
    }
   }
  },
  {
   "cell_type": "markdown",
   "source": [
    "→ with the help of the `for` loop we can for example iterate over a list.\n",
    "```python\n",
    "for item in list:\n",
    "  # do something\n",
    "```"
   ],
   "metadata": {
    "collapsed": false,
    "pycharm": {
     "name": "#%% md\n"
    }
   }
  },
  {
   "cell_type": "markdown",
   "source": [
    "### Task"
   ],
   "metadata": {
    "collapsed": false,
    "pycharm": {
     "name": "#%% md\n"
    }
   }
  },
  {
   "cell_type": "code",
   "execution_count": 10,
   "outputs": [
    {
     "name": "stdout",
     "output_type": "stream",
     "text": [
      "Found 4 letters 'a' in the given string\n"
     ]
    }
   ],
   "source": [
    "s = 'this is a random string with several letters \\'a\\''\n",
    "counter = 0\n",
    "for character in s:\n",
    "    if character == 'a':\n",
    "        counter += 1\n",
    "print('Found', counter, 'letters \\'a\\' in the given string')"
   ],
   "metadata": {
    "collapsed": false,
    "pycharm": {
     "name": "#%%\n"
    }
   }
  },
  {
   "cell_type": "markdown",
   "source": [
    "## Additional Resources\n",
    "\n",
    "- [W3 schools Python while loops](https://www.w3schools.com/python/python_while_loops.asp)\n",
    "- [W3 schools Python for loops](https://www.w3schools.com/python/python_for_loops.asp)\n",
    "- [Tutorialspoint loops in Python](https://www.tutorialspoint.com/python3/python_loops.htm)\n",
    "- [additional practice problems on loops and conditions (note: some are challenging!)](https://www.w3resource.com/python-exercises/python-conditional-statements-and-loop-exercises.php)\n",
    "- [additional practice problems (note: challenging!)](https://www.practicepython.org/)\n"
   ],
   "metadata": {
    "collapsed": false,
    "pycharm": {
     "name": "#%% md\n"
    }
   }
  }
 ],
 "metadata": {
  "kernelspec": {
   "display_name": "Python 3.9.12 ('base': conda)",
   "language": "python",
   "name": "python3"
  },
  "language_info": {
   "codemirror_mode": {
    "name": "ipython",
    "version": 3
   },
   "file_extension": ".py",
   "mimetype": "text/x-python",
   "name": "python",
   "nbconvert_exporter": "python",
   "pygments_lexer": "ipython3",
   "version": "3.9.12"
  },
  "vscode": {
   "interpreter": {
    "hash": "2d63cf38a8ddc3101a2c0f32b71647b4096a78b8efd4c1bbcf73ffeaf57c27fa"
   }
  }
 },
 "nbformat": 4,
 "nbformat_minor": 5
}