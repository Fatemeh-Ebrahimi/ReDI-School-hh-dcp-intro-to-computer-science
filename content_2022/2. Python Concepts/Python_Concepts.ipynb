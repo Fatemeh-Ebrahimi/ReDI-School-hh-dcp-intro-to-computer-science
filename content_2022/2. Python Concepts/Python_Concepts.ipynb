{
  "cells": [
    {
      "cell_type": "markdown",
      "source": [
        "# 1. Python Concepts - Sharing & Synthesizing\n",
        "We will go over many of these concepts in more detail in the coming weeks, so no problem if it takes a little time for them to make sense!\n",
        "\n",
        "One note about the code snippets below: in Python, we can write comments by using the # symbol; anything after this symbol is not interpreted as code or executed. This can be a really convenient way to write notes to yourselves (or future developers!) when trying to understand code you wrote.\n",
        "\n",
        "What observations did you have from the exercise?"
      ],
      "metadata": {
        "id": "jGwVgA_7fec6"
      },
      "id": "jGwVgA_7fec6"
    },
    {
      "cell_type": "markdown",
      "source": [
        "## Data Types\n",
        "What is a data type?\n",
        "\n",
        "What are examples of different data types that you saw?"
      ],
      "metadata": {
        "id": "Rn28kQ0Rf-jG"
      },
      "id": "Rn28kQ0Rf-jG"
    },
    {
      "cell_type": "code",
      "source": [
        "# strings (ex: 'asdf', 'hello my name is x', 'a', '123')\n",
        "language = \"Python\"\n",
        "\n",
        "# integers (ex: 1, -100, 1383234)\n",
        "major_version = 3\n",
        "\n",
        "# floats (floating point values) (ex: 1.0, -100.1234, 0.0000003, 1e5)\n",
        "minor_version = 9.12\n",
        "\n",
        "# booleans (ex: True, False)\n",
        "showTypes = True\n",
        "\n",
        "# lists (ex: [3, 1, 'r', 'e'], [], [3.2, 3, 4.5])\n",
        "types = [\"str\", \"int\", \"float\", \"complex\", \"list\", \"tuple\", \"range\", \"dict\", \"set\", \"frozenset\", \"bool\", \"bytes\", \"bytearray\", \"memoryview\", \"NoneType\"]\n",
        "\n",
        "# functions (ex: def my_function (a, b): ...)\n",
        "def add(a, b): return a+b\n",
        "\n",
        "\n",
        "# now we print all the variables from above\n",
        "print(\"{} {}.{}\".format(language, major_version, minor_version))\n",
        "if showTypes:\n",
        "  print(\"python types: \")\n",
        "  for t in types:\n",
        "    print(t)\n",
        "print()\n",
        "print(add(2,3))"
      ],
      "metadata": {
        "id": "TrXUJ0DngIDD",
        "outputId": "ba5dbcc0-7d87-4bf3-acf3-06b16df1ea0a",
        "colab": {
          "base_uri": "https://localhost:8080/"
        }
      },
      "id": "TrXUJ0DngIDD",
      "execution_count": 18,
      "outputs": [
        {
          "output_type": "stream",
          "name": "stdout",
          "text": [
            "Python 3.9.12\n",
            "supported types: \n",
            "str\n",
            "int\n",
            "float\n",
            "complex\n",
            "list\n",
            "tuple\n",
            "range\n",
            "dict\n",
            "set\n",
            "frozenset\n",
            "bool\n",
            "bytes\n",
            "bytearray\n",
            "memoryview\n",
            "NoneType\n",
            "\n",
            "5\n"
          ]
        }
      ]
    },
    {
      "cell_type": "markdown",
      "source": [
        "# Variables\n",
        "- What is a variable? What's an example?\n",
        "\n",
        "  Some word (starting with a letter, and can contain letters, numbers, and underscore _) that represents some value. We set the value of a variable with =, for example: test_var = 10 sets the variable test_var to be equal to the value of 10. Setting the value of a variable is often called assigning a variable.\n",
        "\n",
        "- “A bucket” where you can store some value for later use in your program\n",
        "\n",
        "- Has unique name\n",
        "  - Can contain letters, numbers or underscores, but can’t start from number\n",
        "  - Case-sensitive\n",
        "  - Can’t be the same as Python language keywords\n",
        "\n",
        "- Has type\n",
        "  - int, float, bool, string and some more will come later\n",
        "\n",
        "- Has value\n",
        "  - Python “guesses“ the type of the variable by the first value assigned to it\n",
        "- Valid variable names: name, last_name, _first_name, name1\n",
        "- Invalid variable names: 4name, -name, last_$name, 100"
      ],
      "metadata": {
        "id": "wrONmp_mki0F"
      },
      "id": "wrONmp_mki0F"
    },
    {
      "cell_type": "code",
      "source": [
        "num = 3\n",
        "print(num, type(num))\n",
        "# outputs: ->\n",
        "Num = -5\n",
        "print(Num, type(Num))"
      ],
      "metadata": {
        "id": "IlPbxT0PlSsY",
        "outputId": "8aef4286-4624-477a-a672-020e656f076b",
        "colab": {
          "base_uri": "https://localhost:8080/"
        }
      },
      "id": "IlPbxT0PlSsY",
      "execution_count": 21,
      "outputs": [
        {
          "output_type": "stream",
          "name": "stdout",
          "text": [
            "3 <class 'int'>\n",
            "-5 <class 'int'>\n"
          ]
        }
      ]
    },
    {
      "cell_type": "code",
      "source": [
        "pi = 3.14\n",
        "print(pi, type(pi))\n",
        "# outputs: ->\n",
        "smallNumber = 3E-10\n",
        "print(smallNumber, type(smallNumber))"
      ],
      "metadata": {
        "id": "mUKgG2dkl6Gq",
        "outputId": "0a82f18f-2da3-41e8-c814-5bf6c06fa55a",
        "colab": {
          "base_uri": "https://localhost:8080/"
        }
      },
      "id": "mUKgG2dkl6Gq",
      "execution_count": 22,
      "outputs": [
        {
          "output_type": "stream",
          "name": "stdout",
          "text": [
            "3.14 <class 'float'>\n",
            "3e-10 <class 'float'>\n"
          ]
        }
      ]
    },
    {
      "cell_type": "code",
      "source": [
        "b1 = True\n",
        "print(b1, type(b1))\n",
        "# outputs: ->\n",
        "b1 = False\n",
        "print(b1, type(b1))"
      ],
      "metadata": {
        "id": "K4M9U030l9Ab",
        "outputId": "c63ebed8-2f33-49cc-9fc5-b120dfb684b1",
        "colab": {
          "base_uri": "https://localhost:8080/"
        }
      },
      "id": "K4M9U030l9Ab",
      "execution_count": 31,
      "outputs": [
        {
          "output_type": "stream",
          "name": "stdout",
          "text": [
            "True <class 'bool'>\n",
            "False <class 'bool'>\n"
          ]
        },
        {
          "output_type": "execute_result",
          "data": {
            "text/plain": [
              "11"
            ]
          },
          "metadata": {},
          "execution_count": 31
        }
      ]
    },
    {
      "cell_type": "code",
      "source": [
        "letters = \"abcdefghijk\"\n",
        "newString = letters\n",
        "print(letters, type(letters))\n",
        "# outputs: ->\n",
        "print(newString, type(newString))"
      ],
      "metadata": {
        "id": "FLH0d4xFmBcc",
        "outputId": "56871f68-e7be-4717-b26d-03237b089054",
        "colab": {
          "base_uri": "https://localhost:8080/"
        }
      },
      "id": "FLH0d4xFmBcc",
      "execution_count": 24,
      "outputs": [
        {
          "output_type": "stream",
          "name": "stdout",
          "text": [
            "abcdefghijk <class 'str'>\n",
            "abcdefghijk <class 'str'>\n"
          ]
        }
      ]
    },
    {
      "cell_type": "markdown",
      "source": [
        "### Iterables (lists, strings, ...)\n",
        "\n",
        "- What does the `len` keyword do? i.e. `len('asdf')` or `len([1,2,3,4])`\n",
        "\n",
        "  `len` gets the length of any \"iterable\" -- any \"thing\" that is made up of other things that you can \"iterate\" or count through: list, string, tuple, dictionary, set...\n",
        "\n",
        "- What does the `[#]` syntax do?\n",
        "\n",
        "  This _indexes_ into an iterable and gets you the `#` value of it. Note that the \"first\" index is \"0\", because we 0-index in Python. For example:\n"
      ],
      "metadata": {
        "id": "dllKApR8nvrS"
      },
      "id": "dllKApR8nvrS"
    },
    {
      "cell_type": "code",
      "source": [
        "text = \"This is a rather long sentence, but how many characters and blanks are in it?\"\n",
        "len(text)"
      ],
      "metadata": {
        "id": "VMZSaMT2orEj",
        "outputId": "f838a259-ae0f-4403-8e7a-b6695ba41f2a",
        "colab": {
          "base_uri": "https://localhost:8080/"
        }
      },
      "id": "VMZSaMT2orEj",
      "execution_count": 30,
      "outputs": [
        {
          "output_type": "execute_result",
          "data": {
            "text/plain": [
              "77"
            ]
          },
          "metadata": {},
          "execution_count": 30
        }
      ]
    },
    {
      "cell_type": "code",
      "source": [
        "a = 'asdf'\n",
        "b = [1,2,3,4]\n",
        "a[0]"
      ],
      "metadata": {
        "id": "m08jiOPToG_t",
        "outputId": "96a05af6-aa15-46ef-e817-00c55ba3d62e",
        "colab": {
          "base_uri": "https://localhost:8080/",
          "height": 36
        }
      },
      "id": "m08jiOPToG_t",
      "execution_count": 28,
      "outputs": [
        {
          "output_type": "execute_result",
          "data": {
            "text/plain": [
              "'a'"
            ],
            "application/vnd.google.colaboratory.intrinsic+json": {
              "type": "string"
            }
          },
          "metadata": {},
          "execution_count": 28
        }
      ]
    },
    {
      "cell_type": "code",
      "source": [
        "b[3]"
      ],
      "metadata": {
        "id": "tAVwDjlwoZrI",
        "outputId": "104f7fc9-3040-42e8-99f9-4459946095e0",
        "colab": {
          "base_uri": "https://localhost:8080/"
        }
      },
      "id": "tAVwDjlwoZrI",
      "execution_count": 29,
      "outputs": [
        {
          "output_type": "execute_result",
          "data": {
            "text/plain": [
              "4"
            ]
          },
          "metadata": {},
          "execution_count": 29
        }
      ]
    },
    {
      "cell_type": "markdown",
      "source": [
        "## 2. Operators\n",
        "\n",
        "Go through [this Exercise](https://hourofcode.com/toxicodepython) at your own pace in your groups. Make sure you are all doing this together and asking questions.\n",
        "\n",
        "There is no rush -- **it is completely fine not to finish the whole exercise**!!\n",
        "\n",
        "The purpose here is to start getting familiar with Python syntax through trial-and-error (so getting things wrong is **completely expected** and **part of this process**!). After this section, we will go through the activity as a group and discuss our observations of rules and concepts from Python that we took from the exercise.\n",
        "\n",
        "When you get an answer wrong, make sure you look at the correct answer below and try to understand what the expression means from the correct answer.\n",
        "\n",
        "Refresher of some math operators that you will see:\n",
        "\n",
        "- `+`: addition\n",
        "- `-`: subtraction\n",
        "- `*`: multiplication\n",
        "- `a < b`: less than --> \"a is less than b\"\n",
        "- `a > b`: greater than --> \"a is greater than b\""
      ],
      "metadata": {
        "id": "kmpX_a0GpocI"
      },
      "id": "kmpX_a0GpocI"
    },
    {
      "cell_type": "code",
      "source": [
        "#Numbers Operators\n",
        "a = 21\n",
        "b = 10\n",
        "c = 0\n",
        "c = a + b\n",
        "print (\"Line 1 - Value of c is \", c)\n",
        "c = a - b\n",
        "print (\"Line 2 - Value of c is \", c )\n",
        "c = a * b\n",
        "print (\"Line 3 - Value of c is \", c)\n",
        "c = a / b\n",
        "print (\"Line 4 - Value of c is \", c )\n",
        "c = a % b\n",
        "print (\"Line 5 - Value of c is \", c)\n",
        "a = 2\n",
        "b = 3\n",
        "c = a**b\n",
        "print (\"Line 6 - Value of c is \", c)\n",
        "a = 10\n",
        "b = 5\n",
        "c = a//b\n",
        "print (\"Line 7 - Value of c is \", c)"
      ],
      "metadata": {
        "id": "0LBhHw4YvcCY",
        "outputId": "cd3772f6-e848-4392-c46b-f50fe236ab71",
        "colab": {
          "base_uri": "https://localhost:8080/"
        }
      },
      "id": "0LBhHw4YvcCY",
      "execution_count": 32,
      "outputs": [
        {
          "output_type": "stream",
          "name": "stdout",
          "text": [
            "Line 1 - Value of c is  31\n",
            "Line 2 - Value of c is  11\n",
            "Line 3 - Value of c is  210\n",
            "Line 4 - Value of c is  2.1\n",
            "Line 5 - Value of c is  1\n",
            "Line 6 - Value of c is  8\n",
            "Line 7 - Value of c is  2\n"
          ]
        }
      ]
    },
    {
      "cell_type": "code",
      "source": [
        "#String Operators\n",
        "a = 'hello'\n",
        "b = 'class'\n",
        "c = ''\n",
        "c = a + b\n",
        "print(c)\n",
        "c = a * 5\n",
        "print(c)\n",
        "c = 10 * b\n",
        "print(c)"
      ],
      "metadata": {
        "id": "oLOwELksvlGb",
        "outputId": "29463cea-0c66-4de8-8f09-390c875c6d0a",
        "colab": {
          "base_uri": "https://localhost:8080/"
        }
      },
      "id": "oLOwELksvlGb",
      "execution_count": 33,
      "outputs": [
        {
          "output_type": "stream",
          "name": "stdout",
          "text": [
            "helloclass\n",
            "hellohellohellohellohello\n",
            "classclassclassclassclassclassclassclassclassclass\n"
          ]
        }
      ]
    }
  ],
  "metadata": {
    "kernelspec": {
      "display_name": "Python 3.9.12 ('base': conda)",
      "language": "python",
      "name": "python3"
    },
    "language_info": {
      "codemirror_mode": {
        "name": "ipython",
        "version": 3
      },
      "file_extension": ".py",
      "mimetype": "text/x-python",
      "name": "python",
      "nbconvert_exporter": "python",
      "pygments_lexer": "ipython3",
      "version": "3.9.12"
    },
    "vscode": {
      "interpreter": {
        "hash": "2d63cf38a8ddc3101a2c0f32b71647b4096a78b8efd4c1bbcf73ffeaf57c27fa"
      }
    },
    "colab": {
      "provenance": []
    }
  },
  "nbformat": 4,
  "nbformat_minor": 5
}