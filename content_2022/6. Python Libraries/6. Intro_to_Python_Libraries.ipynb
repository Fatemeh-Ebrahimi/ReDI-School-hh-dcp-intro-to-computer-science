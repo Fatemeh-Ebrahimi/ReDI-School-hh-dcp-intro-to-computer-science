{
  "cells": [
    {
      "cell_type": "markdown",
      "source": [
        "# 14 Nov - Python Libraries\n",
        "\n",
        "\n",
        "![python gif](https://media.giphy.com/media/KAq5w47R9rmTuvWOWa/giphy.gif)\n",
        "\n",
        "## Pre Requisites\n",
        "\n",
        "None for today!\n",
        "\n",
        "---\n",
        "\n",
        "## Class Curriculum\n",
        "\n",
        "| Section content                             | Expected time (mins) | Pre - Requirements |\n",
        "| ------------------------------------------- | -------------------- | ------------------ |\n",
        "| text   | 5 minutes            | ❌                 |\n",
        "| Lesson Goals                                | 5 minutes            | ❌                 |\n",
        "\n",
        "## using libraries\n",
        "\n",
        "\"A library is a collection of materials, books or media that are accessible for use. A library provides physical (hard copies) or digital access (soft copies) materials, and may be a physical location or a virtual space, or both.\" - *Wikipedia*\n",
        "\n",
        "Python libraries provide various functions and classes for all kinds of uses. They consist of well tested code that proofed useful in many projects. In the end it's just code that you do not need to write yourself, which you can use to make your life as a programmer a little bit easier.\n",
        "\n",
        "## some libraries and usage examples\n",
        "\n",
        "There are quite a lot of Python libraries available and we can show only a few examples that we will use later in this course.\n",
        "\n",
        "### NumPy\n",
        "\n",
        "NumPy is an open source project aiming to enable numerical computing with Python. [https://numpy.org](https://numpy.org)\n",
        "\n",
        "\n",
        "### pandas\n",
        "\n",
        "pandas is a fast, powerful, flexible and easy to use open source data analysis and manipulation tool, built on top of the Python programming language. [https://pandas.pydata.org/](https://pandas.pydata.org/)\n",
        "\n",
        "### Matplotlib\n",
        "\n",
        "Matplotlib is a comprehensive library for creating static, animated, and interactive visualizations in Python. [https://matplotlib.org/](https://matplotlib.org/)\n",
        "\n",
        "### seaborn\n",
        "\n",
        "Seaborn is a Python data visualization library based on matplotlib. It provides a high-level interface for drawing attractive and informative statistical graphics. [https://seaborn.pydata.org/](https://seaborn.pydata.org/)"
      ],
      "metadata": {
        "id": "rjb6N0psfEK3"
      }
    },
    {
      "cell_type": "code",
      "source": [
        "import matplotlib.pyplot as plt\n",
        "  \n",
        "names = []\n",
        "marks = []\n",
        "  \n",
        "f = open('programming-languages.txt','r')\n",
        "for row in f:\n",
        "    row = row.split(' ')\n",
        "    names.append(row[0])\n",
        "    marks.append(int(row[1]))\n",
        "  \n",
        "plt.bar(names, marks, color = 'g', label = 'File Data')\n",
        "  \n",
        "plt.xlabel('Student Names', fontsize = 12)\n",
        "plt.ylabel('Marks', fontsize = 12)\n",
        "  \n",
        "plt.title('Students Marks', fontsize = 20)\n",
        "plt.legend()\n",
        "plt.show()"
      ],
      "metadata": {
        "colab": {
          "base_uri": "https://localhost:8080/",
          "height": 245
        },
        "id": "zcQ9ZFFcBuXY",
        "outputId": "375975ed-bd92-4671-c403-79900a98deae"
      },
      "execution_count": 1,
      "outputs": [
        {
          "output_type": "error",
          "ename": "FileNotFoundError",
          "evalue": "ignored",
          "traceback": [
            "\u001b[0;31m---------------------------------------------------------------------------\u001b[0m",
            "\u001b[0;31mFileNotFoundError\u001b[0m                         Traceback (most recent call last)",
            "\u001b[0;32m<ipython-input-1-b27bb9983c8a>\u001b[0m in \u001b[0;36m<module>\u001b[0;34m\u001b[0m\n\u001b[1;32m      4\u001b[0m \u001b[0mmarks\u001b[0m \u001b[0;34m=\u001b[0m \u001b[0;34m[\u001b[0m\u001b[0;34m]\u001b[0m\u001b[0;34m\u001b[0m\u001b[0;34m\u001b[0m\u001b[0m\n\u001b[1;32m      5\u001b[0m \u001b[0;34m\u001b[0m\u001b[0m\n\u001b[0;32m----> 6\u001b[0;31m \u001b[0mf\u001b[0m \u001b[0;34m=\u001b[0m \u001b[0mopen\u001b[0m\u001b[0;34m(\u001b[0m\u001b[0;34m'programming-languages.txt'\u001b[0m\u001b[0;34m,\u001b[0m\u001b[0;34m'r'\u001b[0m\u001b[0;34m)\u001b[0m\u001b[0;34m\u001b[0m\u001b[0;34m\u001b[0m\u001b[0m\n\u001b[0m\u001b[1;32m      7\u001b[0m \u001b[0;32mfor\u001b[0m \u001b[0mrow\u001b[0m \u001b[0;32min\u001b[0m \u001b[0mf\u001b[0m\u001b[0;34m:\u001b[0m\u001b[0;34m\u001b[0m\u001b[0;34m\u001b[0m\u001b[0m\n\u001b[1;32m      8\u001b[0m     \u001b[0mrow\u001b[0m \u001b[0;34m=\u001b[0m \u001b[0mrow\u001b[0m\u001b[0;34m.\u001b[0m\u001b[0msplit\u001b[0m\u001b[0;34m(\u001b[0m\u001b[0;34m' '\u001b[0m\u001b[0;34m)\u001b[0m\u001b[0;34m\u001b[0m\u001b[0;34m\u001b[0m\u001b[0m\n",
            "\u001b[0;31mFileNotFoundError\u001b[0m: [Errno 2] No such file or directory: 'programming-languages.txt'"
          ]
        }
      ]
    }
  ],
  "metadata": {
    "kernelspec": {
      "display_name": "Python 3",
      "language": "python",
      "name": "python3"
    },
    "language_info": {
      "codemirror_mode": {
        "name": "ipython",
        "version": 2
      },
      "file_extension": ".py",
      "mimetype": "text/x-python",
      "name": "python",
      "nbconvert_exporter": "python",
      "pygments_lexer": "ipython2",
      "version": "2.7.6"
    },
    "colab": {
      "provenance": []
    }
  },
  "nbformat": 4,
  "nbformat_minor": 0
}