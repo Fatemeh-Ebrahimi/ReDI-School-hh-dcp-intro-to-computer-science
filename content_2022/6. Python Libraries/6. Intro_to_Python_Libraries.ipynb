{
  "cells": [
    {
      "cell_type": "markdown",
      "source": [
        "# 14 Nov - Python Libraries\n",
        "\n",
        "\n",
        "![python gif](https://media.giphy.com/media/KAq5w47R9rmTuvWOWa/giphy.gif)\n",
        "\n",
        "## Pre Requisites\n",
        "\n",
        "None for today!\n",
        "\n",
        "---\n",
        "\n",
        "## Class Curriculum\n",
        "\n",
        "| Section content                             | Expected time (mins) | Pre - Requirements |\n",
        "| ------------------------------------------- | -------------------- | ------------------ |\n",
        "| text   | 5 minutes            | ❌                 |\n",
        "| Lesson Goals                                | 5 minutes            | ❌                 |\n",
        "\n",
        "## using libraries\n",
        "\n",
        "\"A library is a collection of materials, books or media that are accessible for use. A library provides physical (hard copies) or digital access (soft copies) materials, and may be a physical location or a virtual space, or both.\" - *Wikipedia*\n",
        "\n",
        "Python libraries provide various functions and classes for all kinds of uses. They consist of well tested code that proofed useful in many projects. In the end it's just code that you do not need to write yourself, which you can use to make your life as a programmer a little bit easier.\n",
        "\n",
        "## some libraries and usage examples\n",
        "\n",
        "There are quite a lot of Python libraries available and we can show only a few examples that we will use later in this course.\n",
        "\n",
        "### NumPy\n",
        "\n",
        "NumPy is an open source project aiming to enable numerical computing with Python. [https://numpy.org](https://numpy.org)\n",
        "\n",
        "#### working with arrays\n",
        "\n",
        "NumPy supports a variety of use cases when working with numeric or tabular data, which come most handy in data processing or datascience. You can use the following website as a reference:\n",
        "[https://numpy.org/devdocs/user/quickstart.html](https://numpy.org/devdocs/user/quickstart.html)\n",
        "\n"
      ],
      "metadata": {
        "id": "rjb6N0psfEK3"
      }
    },
    {
      "cell_type": "code",
      "source": [
        "import numpy as np\n",
        "\n",
        "# create a two dimensional array with some numbers\n",
        "dim2array = np.array([\n",
        "    [10, 11, 12, 13, 14, 15],\n",
        "    [20, 21, 22, 23, 24, 25], \n",
        "    [30, 31, 32, 33, 34, 35],\n",
        "    [40, 41, 42, 43, 44, 45]\n",
        "])\n",
        "\n",
        "# to see the size of the array dimensions (4 rows with 6 elements each in this case)\n",
        "print(dim2array.shape)\n",
        "\n",
        "# element wise operations\n",
        "print(\"add '3' to each element: {}\".format(\n",
        "    (dim2array[0]+3))\n",
        ")\n",
        "\n",
        "# you can transform the shape of arrays by providing the new dimensions\n",
        "dim1array = dim2array.reshape(24)\n",
        "print(\"one dimensional: {}\".format(dim1array))\n",
        "print(\"add all elements: {}\".format(dim1array.sum()))\n"
      ],
      "metadata": {
        "id": "VBh0Be2avk_S",
        "outputId": "ad789080-70f0-42e9-f916-1f1ceb66ee03",
        "colab": {
          "base_uri": "https://localhost:8080/"
        }
      },
      "execution_count": 65,
      "outputs": [
        {
          "output_type": "stream",
          "name": "stdout",
          "text": [
            "(4, 6)\n",
            "add '3' to each element: [13 14 15 16 17 18]\n",
            "one dimensional: [10 11 12 13 14 15 20 21 22 23 24 25 30 31 32 33 34 35 40 41 42 43 44 45]\n",
            "add all elements: 660\n"
          ]
        }
      ]
    },
    {
      "cell_type": "markdown",
      "source": [
        "#### loading and storing data to files\n",
        "\n",
        "In real life situations you will not be able to write every data into your source code file. NumPy hase some convenience functions to load and store array data as text files. [https://numpy.org/doc/stable/reference/generated/numpy.savetxt.html](https://numpy.org/doc/stable/reference/generated/numpy.savetxt.html)\n",
        "\n",
        "when reading Data from File, you need to specify a format:\n",
        "\n",
        "    c : character\n",
        "    d or i : signed decimal integer\n",
        "    f : decimal floating point\n",
        "    s : string of characters\n",
        "    u : unsigned decimal integer"
      ],
      "metadata": {
        "id": "59euyO91A23l"
      }
    },
    {
      "cell_type": "code",
      "source": [
        "import numpy as np\n",
        "from io import StringIO\n",
        "\n",
        "names = np.array([['Python',29.48],['Java',17.18],['JavaScript',9.14],['C#',6.94],['PHP',6.49],['C/C++',6.49],['R',3.59],['TypeScript',2.18],['Swift',2.1],['Objective-C',2.06]])\n",
        "np.savetxt('programming-languages.txt', names, delimiter=';', fmt=(\"%s\"))\n",
        "\n",
        "# load data from CSV file:  \n",
        "f = open('programming-languages.txt','r')\n",
        "\n",
        "# alternatively you could provide Data as String\n",
        "#f = StringIO(\"Python;29.48\\nJava;17.18\\nJavaScript;9.14\\nC#;6.94\\nPHP;6.49\\nC/C++;6.49\\nR;3.59\\nTypeScript;2.18\\nSwift;2.1\\nObjective-C;2.06\")\n",
        "\n",
        "language, percentage =  np.loadtxt(f, dtype={'names': ('language', 'percentage'), 'formats': ('U15', 'f4')}, delimiter=';', comments='§', unpack=True)\n",
        "print(language)"
      ],
      "metadata": {
        "colab": {
          "base_uri": "https://localhost:8080/"
        },
        "id": "zcQ9ZFFcBuXY",
        "outputId": "7d554f47-225e-458a-f1ed-1dba3bde6817"
      },
      "execution_count": 59,
      "outputs": [
        {
          "output_type": "stream",
          "name": "stdout",
          "text": [
            "['Python' 'Java' 'JavaScript' 'C#' 'PHP' 'C/C++' 'R' 'TypeScript' 'Swift'\n",
            " 'Objective-C']\n"
          ]
        }
      ]
    },
    {
      "cell_type": "markdown",
      "source": [
        "### Matplotlib\n",
        "\n",
        "Matplotlib is a comprehensive library for creating static, animated, and interactive visualizations in Python. [https://matplotlib.org/](https://matplotlib.org/)\n",
        "\n",
        "Matplot supports a number of visualizations for common data structures out of the box, for example:"
      ],
      "metadata": {
        "id": "yM6rvZxahFbG"
      }
    },
    {
      "cell_type": "code",
      "source": [
        "import matplotlib.pyplot as plt\n",
        "\n",
        "# drawing a bar diagram\n",
        "plt.bar(language, percentage, color = 'g', label = 'File Data')\n",
        "  \n",
        "plt.xlabel('Programming languages', fontsize = 12)\n",
        "plt.ylabel('popularity in %', fontsize = 12)\n",
        "\n",
        "  \n",
        "plt.title('Programming language popularity', fontsize = 20)\n",
        "plt.xticks(rotation=45, ha=\"right\")\n",
        "plt.legend()\n",
        "plt.show()"
      ],
      "metadata": {
        "colab": {
          "base_uri": "https://localhost:8080/",
          "height": 341
        },
        "id": "HNb6KunjYSvC",
        "outputId": "0b241b96-dfc3-406f-bd9c-91c04115dd1e"
      },
      "execution_count": 50,
      "outputs": [
        {
          "output_type": "display_data",
          "data": {
            "text/plain": [
              "<Figure size 432x288 with 1 Axes>"
            ],
            "image/png": "[encoded data removed]"
          },
          "metadata": {
            "needs_background": "light"
          }
        }
      ]
    },
    {
      "cell_type": "code",
      "source": [
        "colors = ['yellow', 'b', 'green', 'cyan','red'] \n",
        "top5Percent = np.split(percentage,2)[0]\n",
        "top5language = np.split(language,2)[0]\n",
        "print(\"displaying pie chart of {}\".format(top5language))\n",
        "\n",
        "# plotting pie chart \n",
        "plt.pie(top5Percent, labels = top5language, colors = colors, startangle = 90,\n",
        "        shadow = True, radius = 1.2) \n",
        "plt.show()"
      ],
      "metadata": {
        "id": "dPPpUPzjh5rE",
        "outputId": "f5aa3bc3-3fbc-4fb5-fbf2-33129477837d",
        "colab": {
          "base_uri": "https://localhost:8080/",
          "height": 278
        }
      },
      "execution_count": 75,
      "outputs": [
        {
          "output_type": "stream",
          "name": "stdout",
          "text": [
            "displaying pie chart of ['Python' 'Java' 'JavaScript' 'C#' 'PHP']\n"
          ]
        },
        {
          "output_type": "display_data",
          "data": {
            "text/plain": [
              "<Figure size 432x288 with 1 Axes>"
            ],
            "image/png": "[encoded data removed]"
          },
          "metadata": {}
        }
      ]
    },
    {
      "cell_type": "markdown",
      "source": [
        "### pandas\n",
        "\n",
        "pandas is a fast, powerful, flexible and easy to use open source data analysis and manipulation tool, built on top of the Python programming language. [https://pandas.pydata.org/](https://pandas.pydata.org/)\n",
        "\n",
        "\n",
        "### seaborn\n",
        "\n",
        "Seaborn is a Python data visualization library based on matplotlib. It provides a high-level interface for drawing attractive and informative statistical graphics. [https://seaborn.pydata.org/](https://seaborn.pydata.org/)"
      ],
      "metadata": {
        "id": "XGqPKLNvX_bh"
      }
    }
  ],
  "metadata": {
    "kernelspec": {
      "display_name": "Python 3",
      "language": "python",
      "name": "python3"
    },
    "language_info": {
      "codemirror_mode": {
        "name": "ipython",
        "version": 2
      },
      "file_extension": ".py",
      "mimetype": "text/x-python",
      "name": "python",
      "nbconvert_exporter": "python",
      "pygments_lexer": "ipython2",
      "version": "2.7.6"
    },
    "colab": {
      "provenance": []
    }
  },
  "nbformat": 4,
  "nbformat_minor": 0
}