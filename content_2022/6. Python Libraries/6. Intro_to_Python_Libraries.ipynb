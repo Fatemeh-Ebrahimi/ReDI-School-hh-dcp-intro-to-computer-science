{
  "cells": [
    {
      "cell_type": "markdown",
      "metadata": {
        "id": "view-in-github",
        "colab_type": "text"
      },
      "source": [
        "<a href=\"https://colab.research.google.com/github/ReDI-School/hh-dcp-intro-to-computer-science/blob/main/content_2022/6.%20Python%20Libraries/6.%20Intro_to_Python_Libraries.ipynb\" target=\"_parent\"><img src=\"https://colab.research.google.com/assets/colab-badge.svg\" alt=\"Open In Colab\"/></a>"
      ]
    },
    {
      "cell_type": "markdown",
      "source": [
        "# 14 Nov - Python Libraries\n",
        "\n",
        "\n",
        "![python gif](https://media.giphy.com/media/KAq5w47R9rmTuvWOWa/giphy.gif)\n",
        "\n",
        "## Pre Requisites\n",
        "\n",
        "None for today!\n",
        "\n",
        "---\n",
        "\n",
        "## Class Curriculum\n",
        "\n",
        "| Section content                             | Expected time (mins) | Pre - Requirements |\n",
        "| ------------------------------------------- | -------------------- | ------------------ |\n",
        "| text   | 5 minutes            | ❌                 |\n",
        "| Lesson Goals                                | 5 minutes            | ❌                 |\n",
        "\n",
        "## using libraries\n",
        "\n",
        "\"A library is a collection of materials, books or media that are accessible for use. A library provides physical (hard copies) or digital access (soft copies) materials, and may be a physical location or a virtual space, or both.\" - *Wikipedia*\n",
        "\n",
        "Python libraries provide various functions and classes for all kinds of uses. They consist of well tested code that proofed useful in many projects. In the end it's just code that you do not need to write yourself, which you can use to make your life as a programmer a little bit easier.\n",
        "\n",
        "## some libraries and usage examples\n",
        "\n",
        "There are quite a lot of Python libraries available and we can show only a few examples that we will use later in this course.\n",
        "\n",
        "### NumPy\n",
        "\n",
        "NumPy is an open source project aiming to enable numerical computing with Python. [https://numpy.org](https://numpy.org)\n",
        "\n",
        "#### working with arrays\n",
        "\n",
        "NumPy supports a variety of use cases when working with numeric or tabular data, which come most handy in data processing or datascience. You can use the following website as a reference:\n",
        "[https://numpy.org/devdocs/user/quickstart.html](https://numpy.org/devdocs/user/quickstart.html)\n",
        "\n"
      ],
      "metadata": {
        "id": "rjb6N0psfEK3"
      }
    },
    {
      "cell_type": "code",
      "source": [
        "import numpy as np\n",
        "\n",
        "# create a two dimensional array with some numbers\n",
        "dim2array = np.array([\n",
        "    [10, 11, 12, 13, 14, 15],\n",
        "    [20, 21, 22, 23, 24, 25], \n",
        "    [30, 31, 32, 33, 34, 35],\n",
        "    [40, 41, 42, 43, 44, 45]\n",
        "])\n",
        "\n",
        "# to see the size of the array dimensions (4 rows with 6 elements each in this case)\n",
        "print(dim2array.shape)\n",
        "\n",
        "# element wise operations\n",
        "print(\"add '3' to each element: {}\".format(\n",
        "    (dim2array[0]+3))\n",
        ")\n",
        "\n",
        "# you can transform the shape of arrays by providing the new dimensions\n",
        "dim1array = dim2array.reshape(24)\n",
        "print(\"one dimensional: {}\".format(dim1array))\n",
        "print(\"add all elements: {}\".format(dim1array.sum()))\n"
      ],
      "metadata": {
        "id": "VBh0Be2avk_S"
      },
      "execution_count": null,
      "outputs": []
    },
    {
      "cell_type": "markdown",
      "source": [
        "#### loading and storing data to files\n",
        "\n",
        "In real life situations you will not be able to write every data into your source code file. NumPy hase some convenience functions to load and store array data as text files. [https://numpy.org/doc/stable/reference/generated/numpy.savetxt.html](https://numpy.org/doc/stable/reference/generated/numpy.savetxt.html)\n",
        "\n",
        "when reading Data from File, you need to specify a format:\n",
        "\n",
        "    c : character\n",
        "    d or i : signed decimal integer\n",
        "    f : decimal floating point\n",
        "    s : string of characters\n",
        "    u : unsigned decimal integer"
      ],
      "metadata": {
        "id": "59euyO91A23l"
      }
    },
    {
      "cell_type": "code",
      "source": [
        "import numpy as np\n",
        "from io import StringIO\n",
        "\n",
        "names = np.array([['Python',29.48],['Java',17.18],['JavaScript',9.14],['C#',6.94],['PHP',6.49],['C/C++',6.49],['R',3.59],['TypeScript',2.18],['Swift',2.1],['Objective-C',2.06]])\n",
        "np.savetxt('programming-languages.txt', names, delimiter=';', fmt=(\"%s\"))\n",
        "\n",
        "# load data from CSV file:  \n",
        "f = open('programming-languages.txt','r')\n",
        "\n",
        "# alternatively you could provide Data as String\n",
        "#f = StringIO(\"Python;29.48\\nJava;17.18\\nJavaScript;9.14\\nC#;6.94\\nPHP;6.49\\nC/C++;6.49\\nR;3.59\\nTypeScript;2.18\\nSwift;2.1\\nObjective-C;2.06\")\n",
        "\n",
        "language, percentage =  np.loadtxt(f, dtype={'names': ('language', 'percentage'), 'formats': ('U15', 'f4')}, delimiter=';', comments='§', unpack=True)\n",
        "print(language)"
      ],
      "metadata": {
        "id": "zcQ9ZFFcBuXY"
      },
      "execution_count": null,
      "outputs": []
    },
    {
      "cell_type": "markdown",
      "source": [
        "### Matplotlib\n",
        "\n",
        "Matplotlib is a comprehensive library for creating static, animated, and interactive visualizations in Python. [https://matplotlib.org/](https://matplotlib.org/)\n",
        "\n",
        "Matplot supports a number of visualizations for common data structures out of the box, for example:"
      ],
      "metadata": {
        "id": "yM6rvZxahFbG"
      }
    },
    {
      "cell_type": "code",
      "source": [
        "import matplotlib.pyplot as plt\n",
        "\n",
        "# drawing a bar diagram\n",
        "plt.bar(language, percentage, color = 'g', label = 'File Data')\n",
        "  \n",
        "plt.xlabel('Programming languages', fontsize = 12)\n",
        "plt.ylabel('popularity in %', fontsize = 12)\n",
        "\n",
        "  \n",
        "plt.title('Programming language popularity', fontsize = 20)\n",
        "plt.xticks(rotation=45, ha=\"right\")\n",
        "plt.legend()\n",
        "plt.show()"
      ],
      "metadata": {
        "id": "HNb6KunjYSvC"
      },
      "execution_count": null,
      "outputs": []
    },
    {
      "cell_type": "code",
      "source": [
        "colors = ['yellow', 'b', 'green', 'cyan','red'] \n",
        "top5Percent = np.split(percentage,2)[0]\n",
        "top5language = np.split(language,2)[0]\n",
        "print(\"displaying pie chart of {}\".format(top5language))\n",
        "\n",
        "# plotting pie chart \n",
        "plt.pie(top5Percent, labels = top5language, colors = colors, startangle = 90,\n",
        "        shadow = True, radius = 1.2) \n",
        "plt.show()"
      ],
      "metadata": {
        "id": "dPPpUPzjh5rE"
      },
      "execution_count": null,
      "outputs": []
    },
    {
      "cell_type": "markdown",
      "source": [
        "### pandas\n",
        "\n",
        "pandas is a fast, powerful, flexible and easy to use open source data analysis and manipulation tool, built on top of the Python programming language. [https://pandas.pydata.org/](https://pandas.pydata.org/)\n",
        "\n",
        "#### loading and storing CSV data from/to files"
      ],
      "metadata": {
        "id": "XGqPKLNvX_bh"
      }
    },
    {
      "cell_type": "code",
      "source": [
        "import pandas as pd\n",
        "\n",
        "import matplotlib.pyplot as plt\n",
        "\n",
        "programmingLanguages = pd.read_csv(\"programming-languages.txt\", sep=';', header=None)\n",
        "programmingLanguages.head(5).to_csv(\"programming-languages.csv\", header=[\"language\",\"percent\"])"
      ],
      "metadata": {
        "id": "9C61nE_NXOx5"
      },
      "execution_count": null,
      "outputs": []
    },
    {
      "cell_type": "markdown",
      "source": [
        "Pandas is a rather large library with many features, so we will take a look at a data visualization show case to get a grasp of Pandas capabilities.\n",
        "Let's take for example some RKI Data with corona cases per 'Bundesland' from https://www.rki.de/DE/Content/InfAZ/N/Neuartiges_Coronavirus/Daten/Inzidenz-Tabellen.html?nn=13490888\n",
        "You find the data in the 'fallzahlen.txt' file."
      ],
      "metadata": {
        "id": "vCuQW62Vgrmh"
      }
    },
    {
      "cell_type": "code",
      "source": [
        "# to parse some data with non standard formatting: (we use transpose to change rows with columns)\n",
        "fallzahlen = pd.read_csv(\"fallzahlen.txt\", sep='\\t', parse_dates=[0], index_col=0).transpose()\n",
        "\n",
        "# Pandas will try to guess the data type of the columns\n",
        "# fallzahlen = fallzahlen.apply(pd.to_numeric, errors='ignore')\n",
        "\n",
        "# to display the first 5 rows of our data:\n",
        "fallzahlen.head(5)"
      ],
      "metadata": {
        "id": "0_deh2zQch85"
      },
      "execution_count": null,
      "outputs": []
    },
    {
      "cell_type": "code",
      "source": [
        "# display details of the DataFrame\n",
        "fallzahlen.info()"
      ],
      "metadata": {
        "id": "UTHOYQoVkQko"
      },
      "execution_count": null,
      "outputs": []
    },
    {
      "cell_type": "code",
      "source": [
        "# plot as a line diagram\n",
        "fallzahlen[[\"Hamburg\",\"Berlin\",\"Bayern\",\"Nordrhein-Westfalen\"]].plot(rot=45, figsize=(22, 8))"
      ],
      "metadata": {
        "id": "sKnoawxAkbHG"
      },
      "execution_count": null,
      "outputs": []
    },
    {
      "cell_type": "markdown",
      "source": [
        "To be able to compare the numbers, we will calculate the number of infections per 100.000 citizens. e.g. \n",
        "\n",
        "Bayern: 1318 cases\n",
        "\n",
        "Bayern: 13140183 citizens\n",
        "\n",
        "      1318 / (13140183/100000) = 10.03030170888792\n",
        "\n",
        "Next we need the number of citizens per Bundesland from Wikipedia https://de.wikipedia.org/wiki/Liste_der_deutschen_Bundesl%C3%A4nder_nach_Bev%C3%B6lkerung\n",
        "which are stored in the file \"Bundesland_Einwohner_2020\":"
      ],
      "metadata": {
        "id": "kk_Z_pnfYzo_"
      }
    },
    {
      "cell_type": "code",
      "source": [
        "# load the file into the DataFrame 'einwohner'\n",
        "einwohner = pd.read_csv(\"Bundesland_Einwohner_2020\", sep=';', index_col=0).transpose()\n",
        "# we can access the numbers like this:\n",
        "einwohner[\"Bayern\"][0]"
      ],
      "metadata": {
        "id": "BbyqzWD0W1uO",
        "outputId": "a94aa8a7-da68-42ba-dbb0-7b3390533ceb",
        "colab": {
          "base_uri": "https://localhost:8080/"
        }
      },
      "execution_count": 8,
      "outputs": [
        {
          "output_type": "execute_result",
          "data": {
            "text/plain": [
              "13140183"
            ]
          },
          "metadata": {},
          "execution_count": 8
        }
      ]
    },
    {
      "cell_type": "code",
      "source": [
        "# we copy the dataframe because we change the contents below\n",
        "normalized = fallzahlen.copy()\n",
        "\n",
        "# now we add new Columns to the DataFrame with the numbers from the formula\n",
        "for title in einwohner.columns:\n",
        "  normalized[title]=normalized[title]/(einwohner[title][0]/100000)\n",
        "\n",
        "# \"normalized\" now holds the number of corona cases for each date and every Bundesland per 100.000 citizens\n",
        "print(normalized.head())\n",
        "\n",
        "# now we plot all columns except \"Gesamt\" \n",
        "normalized.drop(['Gesamt'], axis=1).plot(rot=45, figsize=(22, 16))\n"
      ],
      "metadata": {
        "id": "xB_tqIrUdgO_"
      },
      "execution_count": null,
      "outputs": []
    },
    {
      "cell_type": "code",
      "source": [],
      "metadata": {
        "id": "_9rM0379owNh"
      },
      "execution_count": null,
      "outputs": []
    },
    {
      "cell_type": "markdown",
      "source": [
        "### seaborn\n",
        "\n",
        "Seaborn is a Python data visualization library based on matplotlib. It provides a high-level interface for drawing attractive and informative statistical graphics. [https://seaborn.pydata.org/](https://seaborn.pydata.org/)"
      ],
      "metadata": {
        "id": "vI3CXCjkXL_J"
      }
    }
  ],
  "metadata": {
    "kernelspec": {
      "display_name": "Python 3",
      "language": "python",
      "name": "python3"
    },
    "language_info": {
      "codemirror_mode": {
        "name": "ipython",
        "version": 2
      },
      "file_extension": ".py",
      "mimetype": "text/x-python",
      "name": "python",
      "nbconvert_exporter": "python",
      "pygments_lexer": "ipython2",
      "version": "2.7.6"
    },
    "colab": {
      "provenance": [],
      "include_colab_link": true
    }
  },
  "nbformat": 4,
  "nbformat_minor": 0
}