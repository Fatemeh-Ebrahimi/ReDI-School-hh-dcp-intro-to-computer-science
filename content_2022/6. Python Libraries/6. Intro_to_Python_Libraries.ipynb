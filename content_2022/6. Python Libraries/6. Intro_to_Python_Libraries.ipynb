{
  "cells": [
    {
      "cell_type": "markdown",
      "source": [
        "# 14 Nov - Python Libraries\n",
        "\n",
        "\n",
        "![python gif](https://media.giphy.com/media/KAq5w47R9rmTuvWOWa/giphy.gif)\n",
        "\n",
        "## Pre Requisites\n",
        "\n",
        "None for today!\n",
        "\n",
        "---\n",
        "\n",
        "## Class Curriculum\n",
        "\n",
        "| Section content                             | Expected time (mins) | Pre - Requirements |\n",
        "| ------------------------------------------- | -------------------- | ------------------ |\n",
        "| text   | 5 minutes            | ❌                 |\n",
        "| Lesson Goals                                | 5 minutes            | ❌                 |\n",
        "\n",
        "## using libraries\n",
        "\n",
        "\"A library is a collection of materials, books or media that are accessible for use. A library provides physical (hard copies) or digital access (soft copies) materials, and may be a physical location or a virtual space, or both.\" - *Wikipedia*\n",
        "\n",
        "Python libraries provide various functions and classes for all kinds of uses. They consist of well tested code that proofed useful in many projects. In the end it's just code that you do not need to write yourself, which you can use to make your life as a programmer a little bit easier.\n",
        "\n",
        "## some libraries and usage examples\n",
        "\n",
        "There are quite a lot of Python libraries available and we can show only a few examples that we will use later in this course.\n",
        "\n",
        "### NumPy\n",
        "\n",
        "NumPy is an open source project aiming to enable numerical computing with Python. [https://numpy.org](https://numpy.org)\n"
      ],
      "metadata": {
        "id": "rjb6N0psfEK3"
      }
    },
    {
      "cell_type": "code",
      "source": [
        "import numpy as np\n",
        "from io import StringIO\n",
        "\n",
        "f = StringIO(\"Python 29.48\\nJava 17.18\\nJavaScript 9.14\\nC# 6.94\\nPHP 6.49\\nC/C++ 6.49\\nR 3.59\\nTypeScript 2.18\\nSwift 2.1\\nObjective-C 2.06\")\n",
        "# alternatively load data from file:  \n",
        "# f = open('programming-languages.txt','r')\n",
        "\n",
        "language, percentage =  np.loadtxt(f, dtype={'names': ('language', 'percentage'), 'formats': ('S15', 'f4')}, comments='§', unpack=True)\n"
      ],
      "metadata": {
        "id": "zcQ9ZFFcBuXY"
      },
      "execution_count": 59,
      "outputs": []
    },
    {
      "cell_type": "code",
      "source": [
        "import matplotlib.pyplot as plt\n",
        "\n",
        "plt.bar(language, percentage, color = 'g', label = 'File Data')\n",
        "  \n",
        "plt.xlabel('Programming languages', fontsize = 12)\n",
        "plt.ylabel('popularity in %', fontsize = 12)\n",
        "\n",
        "  \n",
        "plt.title('Programming language popularity', fontsize = 20)\n",
        "plt.xticks(rotation=45, ha=\"right\")\n",
        "plt.legend()\n",
        "plt.show()"
      ],
      "metadata": {
        "id": "HNb6KunjYSvC",
        "outputId": "d18ce633-cd1a-4520-b11e-986999f2f9b3",
        "colab": {
          "base_uri": "https://localhost:8080/",
          "height": 341
        }
      },
      "execution_count": 61,
      "outputs": [
        {
          "output_type": "display_data",
          "data": {
            "text/plain": [
              "<Figure size 432x288 with 1 Axes>"
            ],
            "image/png": "[encoded data removed]"
          },
          "metadata": {
            "needs_background": "light"
          }
        }
      ]
    },
    {
      "cell_type": "markdown",
      "source": [
        "### pandas\n",
        "\n",
        "pandas is a fast, powerful, flexible and easy to use open source data analysis and manipulation tool, built on top of the Python programming language. [https://pandas.pydata.org/](https://pandas.pydata.org/)\n",
        "\n",
        "### Matplotlib\n",
        "\n",
        "Matplotlib is a comprehensive library for creating static, animated, and interactive visualizations in Python. [https://matplotlib.org/](https://matplotlib.org/)\n",
        "\n",
        "### seaborn\n",
        "\n",
        "Seaborn is a Python data visualization library based on matplotlib. It provides a high-level interface for drawing attractive and informative statistical graphics. [https://seaborn.pydata.org/](https://seaborn.pydata.org/)"
      ],
      "metadata": {
        "id": "XGqPKLNvX_bh"
      }
    }
  ],
  "metadata": {
    "kernelspec": {
      "display_name": "Python 3",
      "language": "python",
      "name": "python3"
    },
    "language_info": {
      "codemirror_mode": {
        "name": "ipython",
        "version": 2
      },
      "file_extension": ".py",
      "mimetype": "text/x-python",
      "name": "python",
      "nbconvert_exporter": "python",
      "pygments_lexer": "ipython2",
      "version": "2.7.6"
    },
    "colab": {
      "provenance": []
    }
  },
  "nbformat": 4,
  "nbformat_minor": 0
}